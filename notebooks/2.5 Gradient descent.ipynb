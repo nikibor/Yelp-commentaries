{
 "cells": [
  {
   "cell_type": "code",
   "execution_count": 1,
   "metadata": {},
   "outputs": [
    {
     "name": "stderr",
     "output_type": "stream",
     "text": [
      "/home/nikita/anaconda3/lib/python3.6/site-packages/sklearn/cross_validation.py:41: DeprecationWarning: This module was deprecated in version 0.18 in favor of the model_selection module into which all the refactored classes and functions are moved. Also note that the interface of the new CV iterators are different from that of this module. This module will be removed in 0.20.\n",
      "  \"This module will be removed in 0.20.\", DeprecationWarning)\n",
      "2018-05-11 16:09:21,564 : INFO : 'pattern' package not found; tag filters are not available for English\n"
     ]
    }
   ],
   "source": [
    "import logging\n",
    "logging.root.handlers = []  # Jupyter messes up logging so needs a reset\n",
    "logging.basicConfig(format='%(asctime)s : %(levelname)s : %(message)s', level=logging.INFO)\n",
    "import pandas as pd\n",
    "import numpy as np\n",
    "from sklearn.cross_validation import train_test_split\n",
    "from sklearn.metrics import accuracy_score, confusion_matrix, explained_variance_score, mean_absolute_error, mean_squared_error, mean_squared_log_error, r2_score\n",
    "import matplotlib.pyplot as plt\n",
    "from gensim.models import Word2Vec"
   ]
  },
  {
   "cell_type": "code",
   "execution_count": 2,
   "metadata": {},
   "outputs": [],
   "source": [
    "import xgboost as xgb\n",
    "from sklearn.preprocessing import MinMaxScaler"
   ]
  },
  {
   "cell_type": "code",
   "execution_count": 3,
   "metadata": {},
   "outputs": [
    {
     "data": {
      "text/html": [
       "<div>\n",
       "<style>\n",
       "    .dataframe thead tr:only-child th {\n",
       "        text-align: right;\n",
       "    }\n",
       "\n",
       "    .dataframe thead th {\n",
       "        text-align: left;\n",
       "    }\n",
       "\n",
       "    .dataframe tbody tr th {\n",
       "        vertical-align: top;\n",
       "    }\n",
       "</style>\n",
       "<table border=\"1\" class=\"dataframe\">\n",
       "  <thead>\n",
       "    <tr style=\"text-align: right;\">\n",
       "      <th></th>\n",
       "      <th>stars</th>\n",
       "      <th>text</th>\n",
       "      <th>useful</th>\n",
       "      <th>funny</th>\n",
       "    </tr>\n",
       "  </thead>\n",
       "  <tbody>\n",
       "    <tr>\n",
       "      <th>0</th>\n",
       "      <td>3</td>\n",
       "      <td>The good: mini doughnuts and americano friendl...</td>\n",
       "      <td>1</td>\n",
       "      <td>0</td>\n",
       "    </tr>\n",
       "    <tr>\n",
       "      <th>1</th>\n",
       "      <td>3</td>\n",
       "      <td>I really like the décor of the place and the w...</td>\n",
       "      <td>0</td>\n",
       "      <td>0</td>\n",
       "    </tr>\n",
       "    <tr>\n",
       "      <th>2</th>\n",
       "      <td>5</td>\n",
       "      <td>Great service, clean and great food, this plac...</td>\n",
       "      <td>1</td>\n",
       "      <td>0</td>\n",
       "    </tr>\n",
       "    <tr>\n",
       "      <th>3</th>\n",
       "      <td>5</td>\n",
       "      <td>This place has never failed on me! \\nLate nigh...</td>\n",
       "      <td>0</td>\n",
       "      <td>0</td>\n",
       "    </tr>\n",
       "    <tr>\n",
       "      <th>4</th>\n",
       "      <td>2</td>\n",
       "      <td>This is a fast food spin off from Paramount Fi...</td>\n",
       "      <td>1</td>\n",
       "      <td>1</td>\n",
       "    </tr>\n",
       "  </tbody>\n",
       "</table>\n",
       "</div>"
      ],
      "text/plain": [
       "   stars                                               text  useful  funny\n",
       "0      3  The good: mini doughnuts and americano friendl...       1      0\n",
       "1      3  I really like the décor of the place and the w...       0      0\n",
       "2      5  Great service, clean and great food, this plac...       1      0\n",
       "3      5  This place has never failed on me! \\nLate nigh...       0      0\n",
       "4      2  This is a fast food spin off from Paramount Fi...       1      1"
      ]
     },
     "execution_count": 3,
     "metadata": {},
     "output_type": "execute_result"
    }
   ],
   "source": [
    "data = pd.read_csv('/home/nikita/PycharmProjects/natural_language/data/test_prepocess.csv')\n",
    "data.head()"
   ]
  },
  {
   "cell_type": "code",
   "execution_count": 4,
   "metadata": {},
   "outputs": [],
   "source": [
    "train_data, test_data = train_test_split(data, test_size=0.1, random_state=42)\n",
    "train_batch = train_data[0:10000]\n",
    "test_batch = test_data[0:5000]"
   ]
  },
  {
   "cell_type": "code",
   "execution_count": 5,
   "metadata": {},
   "outputs": [],
   "source": [
    "def build_sentences_vector(sentence):\n",
    "    words = sentence.split()\n",
    "    result = np.zeros(100)\n",
    "    size = 0\n",
    "    for word in words:\n",
    "        if word in embeding_model.wv.vocab:\n",
    "            result+=embeding_model.wv[word]\n",
    "            size+=1\n",
    "    if size == 0:\n",
    "        size = 1\n",
    "    result /= size\n",
    "    return result"
   ]
  },
  {
   "cell_type": "code",
   "execution_count": 6,
   "metadata": {},
   "outputs": [],
   "source": [
    "def evaluate_prediction(predictions, target, title=\"Confusion matrix\"):\n",
    "    print('accuracy                     %s' % accuracy_score(target, predictions))\n",
    "    print('explained_variance_score     %s' % explained_variance_score(target, predictions))\n",
    "    print('mean_absolute_error          %s' % mean_absolute_error(target, predictions))\n",
    "    print('mean_squared_error           %s' % mean_squared_error(target, predictions))\n",
    "    print('mean_squared_log_error       %s' % mean_squared_log_error(target, predictions))\n",
    "    print('r2_score                     %s' % r2_score(target, predictions))\n",
    "    print()\n",
    "    cm = confusion_matrix(target, predictions)\n",
    "    print('confusion matrix\\n %s' % cm)\n",
    "    print('(row=expected, col=predicted)')\n",
    "    \n",
    "    cm_normalized = cm.astype('float') / cm.sum(axis=1)[:, np.newaxis]\n",
    "    plot_confusion_matrix(cm_normalized, title + ' Normalized')\n",
    "    \n",
    "def plot_confusion_matrix(cm, title='Матрица ошибок', cmap=plt.cm.Blues):\n",
    "    plt.imshow(cm, interpolation='nearest', cmap=cmap)\n",
    "    plt.title(title)\n",
    "    plt.colorbar()\n",
    "    my_tags = pd.unique(train_batch.stars)\n",
    "    tick_marks = np.arange(len(my_tags))\n",
    "    target_names = my_tags\n",
    "    plt.xticks(tick_marks, target_names, rotation=45)\n",
    "    plt.yticks(tick_marks, target_names)\n",
    "    plt.tight_layout()\n",
    "    plt.ylabel('Исходные метки')\n",
    "    plt.xlabel('Полученные метки')\n",
    "    \n",
    "def predict(vectorizer, classifier, data):\n",
    "    data_features = vectorizer.transform(data.text)\n",
    "    predictions = classifier.predict(data_features)\n",
    "    target = data.stars\n",
    "    evaluate_prediction(predictions, target)"
   ]
  },
  {
   "cell_type": "code",
   "execution_count": 7,
   "metadata": {},
   "outputs": [
    {
     "name": "stderr",
     "output_type": "stream",
     "text": [
      "2018-05-11 16:09:45,576 : INFO : loading Word2Vec object from Yelp_embedings\n",
      "2018-05-11 16:09:46,495 : INFO : loading wv recursively from Yelp_embedings.wv.* with mmap=None\n",
      "2018-05-11 16:09:46,495 : INFO : setting ignored attribute vectors_norm to None\n",
      "2018-05-11 16:09:46,496 : INFO : loading vocabulary recursively from Yelp_embedings.vocabulary.* with mmap=None\n",
      "2018-05-11 16:09:46,497 : INFO : loading trainables recursively from Yelp_embedings.trainables.* with mmap=None\n",
      "2018-05-11 16:09:46,498 : INFO : setting ignored attribute cum_table to None\n",
      "2018-05-11 16:09:46,498 : INFO : loaded Yelp_embedings\n"
     ]
    },
    {
     "data": {
      "text/plain": [
       "101865"
      ]
     },
     "execution_count": 7,
     "metadata": {},
     "output_type": "execute_result"
    }
   ],
   "source": [
    "embeding_model = Word2Vec.load('Yelp_embedings')\n",
    "len(embeding_model.wv.vocab)"
   ]
  },
  {
   "cell_type": "code",
   "execution_count": 8,
   "metadata": {},
   "outputs": [
    {
     "name": "stdout",
     "output_type": "stream",
     "text": [
      "CPU times: user 6.39 s, sys: 17.3 ms, total: 6.41 s\n",
      "Wall time: 6.37 s\n"
     ]
    }
   ],
   "source": [
    "%%time\n",
    "train_data_features = []\n",
    "for sentense in train_batch.text:\n",
    "    train_data_features.append(build_sentences_vector(sentense))\n",
    "test_data_transform = []\n",
    "for sentense in test_batch.text:\n",
    "    test_data_transform.append(build_sentences_vector(sentense))"
   ]
  },
  {
   "cell_type": "code",
   "execution_count": 9,
   "metadata": {},
   "outputs": [],
   "source": [
    "features = range(0,100)\n",
    "train_data_features = pd.DataFrame(train_data_features)\n",
    "test_data_transform = pd.DataFrame(test_data_transform)"
   ]
  },
  {
   "cell_type": "code",
   "execution_count": 10,
   "metadata": {},
   "outputs": [
    {
     "data": {
      "text/html": [
       "<div>\n",
       "<style>\n",
       "    .dataframe thead tr:only-child th {\n",
       "        text-align: right;\n",
       "    }\n",
       "\n",
       "    .dataframe thead th {\n",
       "        text-align: left;\n",
       "    }\n",
       "\n",
       "    .dataframe tbody tr th {\n",
       "        vertical-align: top;\n",
       "    }\n",
       "</style>\n",
       "<table border=\"1\" class=\"dataframe\">\n",
       "  <thead>\n",
       "    <tr style=\"text-align: right;\">\n",
       "      <th></th>\n",
       "      <th>0</th>\n",
       "      <th>1</th>\n",
       "      <th>2</th>\n",
       "      <th>3</th>\n",
       "      <th>4</th>\n",
       "      <th>5</th>\n",
       "      <th>6</th>\n",
       "      <th>7</th>\n",
       "      <th>8</th>\n",
       "      <th>9</th>\n",
       "      <th>...</th>\n",
       "      <th>90</th>\n",
       "      <th>91</th>\n",
       "      <th>92</th>\n",
       "      <th>93</th>\n",
       "      <th>94</th>\n",
       "      <th>95</th>\n",
       "      <th>96</th>\n",
       "      <th>97</th>\n",
       "      <th>98</th>\n",
       "      <th>99</th>\n",
       "    </tr>\n",
       "  </thead>\n",
       "  <tbody>\n",
       "    <tr>\n",
       "      <th>0</th>\n",
       "      <td>0.657843</td>\n",
       "      <td>0.609632</td>\n",
       "      <td>0.525296</td>\n",
       "      <td>-0.276667</td>\n",
       "      <td>-1.599431</td>\n",
       "      <td>-0.746425</td>\n",
       "      <td>0.839047</td>\n",
       "      <td>-0.322020</td>\n",
       "      <td>-0.517576</td>\n",
       "      <td>0.034713</td>\n",
       "      <td>...</td>\n",
       "      <td>-0.550146</td>\n",
       "      <td>-0.719748</td>\n",
       "      <td>0.886963</td>\n",
       "      <td>0.559455</td>\n",
       "      <td>0.003304</td>\n",
       "      <td>-0.608013</td>\n",
       "      <td>1.656025</td>\n",
       "      <td>0.682780</td>\n",
       "      <td>-0.974621</td>\n",
       "      <td>0.092623</td>\n",
       "    </tr>\n",
       "    <tr>\n",
       "      <th>1</th>\n",
       "      <td>0.281443</td>\n",
       "      <td>0.327913</td>\n",
       "      <td>0.893144</td>\n",
       "      <td>-0.039593</td>\n",
       "      <td>-1.238828</td>\n",
       "      <td>-0.261439</td>\n",
       "      <td>0.226959</td>\n",
       "      <td>-0.302283</td>\n",
       "      <td>0.160297</td>\n",
       "      <td>0.748506</td>\n",
       "      <td>...</td>\n",
       "      <td>-0.099988</td>\n",
       "      <td>-1.136188</td>\n",
       "      <td>-0.067048</td>\n",
       "      <td>0.715835</td>\n",
       "      <td>0.564235</td>\n",
       "      <td>-0.053976</td>\n",
       "      <td>0.947576</td>\n",
       "      <td>-0.083399</td>\n",
       "      <td>-0.260778</td>\n",
       "      <td>1.018786</td>\n",
       "    </tr>\n",
       "    <tr>\n",
       "      <th>2</th>\n",
       "      <td>0.191129</td>\n",
       "      <td>0.250390</td>\n",
       "      <td>0.658530</td>\n",
       "      <td>-0.499258</td>\n",
       "      <td>-0.960555</td>\n",
       "      <td>-0.021281</td>\n",
       "      <td>-0.009629</td>\n",
       "      <td>-0.275409</td>\n",
       "      <td>-0.278017</td>\n",
       "      <td>0.424062</td>\n",
       "      <td>...</td>\n",
       "      <td>0.331823</td>\n",
       "      <td>-0.721983</td>\n",
       "      <td>-0.036767</td>\n",
       "      <td>1.221909</td>\n",
       "      <td>-0.014596</td>\n",
       "      <td>-0.161579</td>\n",
       "      <td>1.295473</td>\n",
       "      <td>-0.291968</td>\n",
       "      <td>-0.712597</td>\n",
       "      <td>0.343633</td>\n",
       "    </tr>\n",
       "    <tr>\n",
       "      <th>3</th>\n",
       "      <td>0.301239</td>\n",
       "      <td>0.069457</td>\n",
       "      <td>-0.562303</td>\n",
       "      <td>0.188611</td>\n",
       "      <td>-0.524861</td>\n",
       "      <td>-0.375607</td>\n",
       "      <td>0.690599</td>\n",
       "      <td>-0.122376</td>\n",
       "      <td>-0.060635</td>\n",
       "      <td>-0.128954</td>\n",
       "      <td>...</td>\n",
       "      <td>-0.233309</td>\n",
       "      <td>-0.686237</td>\n",
       "      <td>-0.459270</td>\n",
       "      <td>1.421436</td>\n",
       "      <td>0.658864</td>\n",
       "      <td>-0.730709</td>\n",
       "      <td>0.830375</td>\n",
       "      <td>-0.221889</td>\n",
       "      <td>-0.845500</td>\n",
       "      <td>0.968803</td>\n",
       "    </tr>\n",
       "    <tr>\n",
       "      <th>4</th>\n",
       "      <td>0.305067</td>\n",
       "      <td>1.077894</td>\n",
       "      <td>0.092685</td>\n",
       "      <td>-0.735038</td>\n",
       "      <td>-1.235901</td>\n",
       "      <td>-0.136614</td>\n",
       "      <td>-0.087349</td>\n",
       "      <td>-0.297884</td>\n",
       "      <td>-0.537728</td>\n",
       "      <td>-0.035349</td>\n",
       "      <td>...</td>\n",
       "      <td>-0.290039</td>\n",
       "      <td>-0.505505</td>\n",
       "      <td>0.562565</td>\n",
       "      <td>1.016297</td>\n",
       "      <td>0.043433</td>\n",
       "      <td>-0.299355</td>\n",
       "      <td>1.834400</td>\n",
       "      <td>0.132143</td>\n",
       "      <td>-0.594214</td>\n",
       "      <td>0.016543</td>\n",
       "    </tr>\n",
       "  </tbody>\n",
       "</table>\n",
       "<p>5 rows × 100 columns</p>\n",
       "</div>"
      ],
      "text/plain": [
       "         0         1         2         3         4         5         6   \\\n",
       "0  0.657843  0.609632  0.525296 -0.276667 -1.599431 -0.746425  0.839047   \n",
       "1  0.281443  0.327913  0.893144 -0.039593 -1.238828 -0.261439  0.226959   \n",
       "2  0.191129  0.250390  0.658530 -0.499258 -0.960555 -0.021281 -0.009629   \n",
       "3  0.301239  0.069457 -0.562303  0.188611 -0.524861 -0.375607  0.690599   \n",
       "4  0.305067  1.077894  0.092685 -0.735038 -1.235901 -0.136614 -0.087349   \n",
       "\n",
       "         7         8         9     ...           90        91        92  \\\n",
       "0 -0.322020 -0.517576  0.034713    ...    -0.550146 -0.719748  0.886963   \n",
       "1 -0.302283  0.160297  0.748506    ...    -0.099988 -1.136188 -0.067048   \n",
       "2 -0.275409 -0.278017  0.424062    ...     0.331823 -0.721983 -0.036767   \n",
       "3 -0.122376 -0.060635 -0.128954    ...    -0.233309 -0.686237 -0.459270   \n",
       "4 -0.297884 -0.537728 -0.035349    ...    -0.290039 -0.505505  0.562565   \n",
       "\n",
       "         93        94        95        96        97        98        99  \n",
       "0  0.559455  0.003304 -0.608013  1.656025  0.682780 -0.974621  0.092623  \n",
       "1  0.715835  0.564235 -0.053976  0.947576 -0.083399 -0.260778  1.018786  \n",
       "2  1.221909 -0.014596 -0.161579  1.295473 -0.291968 -0.712597  0.343633  \n",
       "3  1.421436  0.658864 -0.730709  0.830375 -0.221889 -0.845500  0.968803  \n",
       "4  1.016297  0.043433 -0.299355  1.834400  0.132143 -0.594214  0.016543  \n",
       "\n",
       "[5 rows x 100 columns]"
      ]
     },
     "execution_count": 10,
     "metadata": {},
     "output_type": "execute_result"
    }
   ],
   "source": [
    "train_data_features.head()"
   ]
  },
  {
   "cell_type": "code",
   "execution_count": 11,
   "metadata": {},
   "outputs": [],
   "source": [
    "big_X = train_data_features.append(test_data_transform)"
   ]
  },
  {
   "cell_type": "code",
   "execution_count": 12,
   "metadata": {},
   "outputs": [
    {
     "name": "stdout",
     "output_type": "stream",
     "text": [
      "CPU times: user 13.9 ms, sys: 19.6 ms, total: 33.5 ms\n",
      "Wall time: 32.7 ms\n"
     ]
    }
   ],
   "source": [
    "%%time\n",
    "scaler = MinMaxScaler()\n",
    "scaler.fit(big_X)\n",
    "train_data_features = scaler.transform(train_data_features)\n",
    "test_data_transform = scaler.transform(test_data_transform)"
   ]
  },
  {
   "cell_type": "code",
   "execution_count": 13,
   "metadata": {},
   "outputs": [
    {
     "data": {
      "text/html": [
       "<div>\n",
       "<style>\n",
       "    .dataframe thead tr:only-child th {\n",
       "        text-align: right;\n",
       "    }\n",
       "\n",
       "    .dataframe thead th {\n",
       "        text-align: left;\n",
       "    }\n",
       "\n",
       "    .dataframe tbody tr th {\n",
       "        vertical-align: top;\n",
       "    }\n",
       "</style>\n",
       "<table border=\"1\" class=\"dataframe\">\n",
       "  <thead>\n",
       "    <tr style=\"text-align: right;\">\n",
       "      <th></th>\n",
       "      <th>0</th>\n",
       "      <th>1</th>\n",
       "      <th>2</th>\n",
       "      <th>3</th>\n",
       "      <th>4</th>\n",
       "      <th>5</th>\n",
       "      <th>6</th>\n",
       "      <th>7</th>\n",
       "      <th>8</th>\n",
       "      <th>9</th>\n",
       "      <th>...</th>\n",
       "      <th>90</th>\n",
       "      <th>91</th>\n",
       "      <th>92</th>\n",
       "      <th>93</th>\n",
       "      <th>94</th>\n",
       "      <th>95</th>\n",
       "      <th>96</th>\n",
       "      <th>97</th>\n",
       "      <th>98</th>\n",
       "      <th>99</th>\n",
       "    </tr>\n",
       "  </thead>\n",
       "  <tbody>\n",
       "    <tr>\n",
       "      <th>0</th>\n",
       "      <td>0.577887</td>\n",
       "      <td>0.482078</td>\n",
       "      <td>0.742385</td>\n",
       "      <td>0.423349</td>\n",
       "      <td>0.310027</td>\n",
       "      <td>0.334578</td>\n",
       "      <td>0.600973</td>\n",
       "      <td>0.309871</td>\n",
       "      <td>0.397005</td>\n",
       "      <td>0.591023</td>\n",
       "      <td>...</td>\n",
       "      <td>0.391325</td>\n",
       "      <td>0.520636</td>\n",
       "      <td>0.718016</td>\n",
       "      <td>0.403269</td>\n",
       "      <td>0.559817</td>\n",
       "      <td>0.347468</td>\n",
       "      <td>0.727061</td>\n",
       "      <td>0.696300</td>\n",
       "      <td>0.363347</td>\n",
       "      <td>0.373897</td>\n",
       "    </tr>\n",
       "    <tr>\n",
       "      <th>1</th>\n",
       "      <td>0.493144</td>\n",
       "      <td>0.420949</td>\n",
       "      <td>0.819480</td>\n",
       "      <td>0.483888</td>\n",
       "      <td>0.392376</td>\n",
       "      <td>0.444563</td>\n",
       "      <td>0.457454</td>\n",
       "      <td>0.313837</td>\n",
       "      <td>0.571269</td>\n",
       "      <td>0.754721</td>\n",
       "      <td>...</td>\n",
       "      <td>0.522882</td>\n",
       "      <td>0.424707</td>\n",
       "      <td>0.486791</td>\n",
       "      <td>0.434370</td>\n",
       "      <td>0.712794</td>\n",
       "      <td>0.423916</td>\n",
       "      <td>0.534317</td>\n",
       "      <td>0.509378</td>\n",
       "      <td>0.520950</td>\n",
       "      <td>0.596806</td>\n",
       "    </tr>\n",
       "    <tr>\n",
       "      <th>2</th>\n",
       "      <td>0.472811</td>\n",
       "      <td>0.404128</td>\n",
       "      <td>0.770308</td>\n",
       "      <td>0.366507</td>\n",
       "      <td>0.455924</td>\n",
       "      <td>0.499027</td>\n",
       "      <td>0.401981</td>\n",
       "      <td>0.319237</td>\n",
       "      <td>0.458590</td>\n",
       "      <td>0.680314</td>\n",
       "      <td>...</td>\n",
       "      <td>0.649077</td>\n",
       "      <td>0.520121</td>\n",
       "      <td>0.494131</td>\n",
       "      <td>0.535019</td>\n",
       "      <td>0.554936</td>\n",
       "      <td>0.409069</td>\n",
       "      <td>0.628968</td>\n",
       "      <td>0.458494</td>\n",
       "      <td>0.421197</td>\n",
       "      <td>0.434310</td>\n",
       "    </tr>\n",
       "    <tr>\n",
       "      <th>3</th>\n",
       "      <td>0.497601</td>\n",
       "      <td>0.364868</td>\n",
       "      <td>0.514438</td>\n",
       "      <td>0.542163</td>\n",
       "      <td>0.555422</td>\n",
       "      <td>0.418672</td>\n",
       "      <td>0.566166</td>\n",
       "      <td>0.349987</td>\n",
       "      <td>0.514473</td>\n",
       "      <td>0.553488</td>\n",
       "      <td>...</td>\n",
       "      <td>0.483919</td>\n",
       "      <td>0.528355</td>\n",
       "      <td>0.391728</td>\n",
       "      <td>0.574701</td>\n",
       "      <td>0.738601</td>\n",
       "      <td>0.330538</td>\n",
       "      <td>0.502431</td>\n",
       "      <td>0.475591</td>\n",
       "      <td>0.391855</td>\n",
       "      <td>0.584776</td>\n",
       "    </tr>\n",
       "    <tr>\n",
       "      <th>4</th>\n",
       "      <td>0.498463</td>\n",
       "      <td>0.583684</td>\n",
       "      <td>0.651715</td>\n",
       "      <td>0.306298</td>\n",
       "      <td>0.393045</td>\n",
       "      <td>0.472871</td>\n",
       "      <td>0.383757</td>\n",
       "      <td>0.314721</td>\n",
       "      <td>0.391824</td>\n",
       "      <td>0.574955</td>\n",
       "      <td>...</td>\n",
       "      <td>0.467340</td>\n",
       "      <td>0.569987</td>\n",
       "      <td>0.639391</td>\n",
       "      <td>0.494126</td>\n",
       "      <td>0.570762</td>\n",
       "      <td>0.390058</td>\n",
       "      <td>0.775590</td>\n",
       "      <td>0.561963</td>\n",
       "      <td>0.447334</td>\n",
       "      <td>0.355586</td>\n",
       "    </tr>\n",
       "  </tbody>\n",
       "</table>\n",
       "<p>5 rows × 100 columns</p>\n",
       "</div>"
      ],
      "text/plain": [
       "         0         1         2         3         4         5         6   \\\n",
       "0  0.577887  0.482078  0.742385  0.423349  0.310027  0.334578  0.600973   \n",
       "1  0.493144  0.420949  0.819480  0.483888  0.392376  0.444563  0.457454   \n",
       "2  0.472811  0.404128  0.770308  0.366507  0.455924  0.499027  0.401981   \n",
       "3  0.497601  0.364868  0.514438  0.542163  0.555422  0.418672  0.566166   \n",
       "4  0.498463  0.583684  0.651715  0.306298  0.393045  0.472871  0.383757   \n",
       "\n",
       "         7         8         9     ...           90        91        92  \\\n",
       "0  0.309871  0.397005  0.591023    ...     0.391325  0.520636  0.718016   \n",
       "1  0.313837  0.571269  0.754721    ...     0.522882  0.424707  0.486791   \n",
       "2  0.319237  0.458590  0.680314    ...     0.649077  0.520121  0.494131   \n",
       "3  0.349987  0.514473  0.553488    ...     0.483919  0.528355  0.391728   \n",
       "4  0.314721  0.391824  0.574955    ...     0.467340  0.569987  0.639391   \n",
       "\n",
       "         93        94        95        96        97        98        99  \n",
       "0  0.403269  0.559817  0.347468  0.727061  0.696300  0.363347  0.373897  \n",
       "1  0.434370  0.712794  0.423916  0.534317  0.509378  0.520950  0.596806  \n",
       "2  0.535019  0.554936  0.409069  0.628968  0.458494  0.421197  0.434310  \n",
       "3  0.574701  0.738601  0.330538  0.502431  0.475591  0.391855  0.584776  \n",
       "4  0.494126  0.570762  0.390058  0.775590  0.561963  0.447334  0.355586  \n",
       "\n",
       "[5 rows x 100 columns]"
      ]
     },
     "execution_count": 13,
     "metadata": {},
     "output_type": "execute_result"
    }
   ],
   "source": [
    "tr_f = pd.DataFrame(train_data_features)\n",
    "ts_f = pd.DataFrame(test_data_transform)\n",
    "tr_f.head()"
   ]
  },
  {
   "cell_type": "code",
   "execution_count": 15,
   "metadata": {},
   "outputs": [],
   "source": [
    "train_X = big_X[0:tr_f.shape[0]].as_matrix()\n",
    "test_X = big_X[tr_f.shape[0]::].as_matrix()"
   ]
  },
  {
   "cell_type": "code",
   "execution_count": 24,
   "metadata": {},
   "outputs": [
    {
     "name": "stdout",
     "output_type": "stream",
     "text": [
      "CPU times: user 28 µs, sys: 1e+03 ns, total: 29 µs\n",
      "Wall time: 32.7 µs\n"
     ]
    }
   ],
   "source": [
    "%%time\n",
    "# gbm = xgb.XGBClassifier(max_depth=48, n_estimators=345, learning_rate=0.05, booster='gbtree')\n",
    "gbm = xgb.XGBClassifier(max_depth=20, n_estimators=120, learning_rate=0.05, booster='gbtree')"
   ]
  },
  {
   "cell_type": "code",
   "execution_count": 25,
   "metadata": {},
   "outputs": [
    {
     "name": "stdout",
     "output_type": "stream",
     "text": [
      "CPU times: user 2min 50s, sys: 35.9 ms, total: 2min 50s\n",
      "Wall time: 2min 50s\n"
     ]
    },
    {
     "data": {
      "text/plain": [
       "XGBClassifier(base_score=0.5, booster='gbtree', colsample_bylevel=1,\n",
       "       colsample_bytree=1, gamma=0, learning_rate=0.05, max_delta_step=0,\n",
       "       max_depth=20, min_child_weight=1, missing=None, n_estimators=120,\n",
       "       n_jobs=1, nthread=None, objective='multi:softprob', random_state=0,\n",
       "       reg_alpha=0, reg_lambda=1, scale_pos_weight=1, seed=None,\n",
       "       silent=True, subsample=1)"
      ]
     },
     "execution_count": 25,
     "metadata": {},
     "output_type": "execute_result"
    }
   ],
   "source": [
    "%%time\n",
    "gbm.fit(train_X, train_batch.stars, verbose=True)"
   ]
  },
  {
   "cell_type": "code",
   "execution_count": 26,
   "metadata": {},
   "outputs": [
    {
     "name": "stdout",
     "output_type": "stream",
     "text": [
      "CPU times: user 1.1 s, sys: 8 ms, total: 1.11 s\n",
      "Wall time: 1.11 s\n"
     ]
    },
    {
     "name": "stderr",
     "output_type": "stream",
     "text": [
      "/home/nikita/anaconda3/lib/python3.6/site-packages/sklearn/preprocessing/label.py:151: DeprecationWarning: The truth value of an empty array is ambiguous. Returning False, but in future this will result in an error. Use `array.size > 0` to check that an array is not empty.\n",
      "  if diff:\n"
     ]
    }
   ],
   "source": [
    "%%time\n",
    "predictions = gbm.predict(test_X)"
   ]
  },
  {
   "cell_type": "code",
   "execution_count": 27,
   "metadata": {},
   "outputs": [
    {
     "name": "stdout",
     "output_type": "stream",
     "text": [
      "accuracy                     0.5804\n",
      "explained_variance_score     0.3898922663067318\n",
      "mean_absolute_error          0.637\n",
      "mean_squared_error           1.2942\n",
      "mean_squared_log_error       0.09105220376773657\n",
      "r2_score                     0.3683269220451971\n",
      "\n",
      "confusion matrix\n",
      " [[ 464   63   45   34   88]\n",
      " [ 127   61   69   77   70]\n",
      " [  74   50  125  248  128]\n",
      " [  40   28   55  443  574]\n",
      " [  45   13   22  248 1809]]\n",
      "(row=expected, col=predicted)\n"
     ]
    },
    {
     "data": {
      "image/png": "[encoded data removed]",
      "text/plain": [
       "<matplotlib.figure.Figure at 0x7f1037f96278>"
      ]
     },
     "metadata": {},
     "output_type": "display_data"
    }
   ],
   "source": [
    "evaluate_prediction(predictions, test_batch.stars)"
   ]
  },
  {
   "cell_type": "code",
   "execution_count": null,
   "metadata": {},
   "outputs": [],
   "source": []
  }
 ],
 "metadata": {
  "kernelspec": {
   "display_name": "Python 3",
   "language": "python",
   "name": "python3"
  },
  "language_info": {
   "codemirror_mode": {
    "name": "ipython",
    "version": 3
   },
   "file_extension": ".py",
   "mimetype": "text/x-python",
   "name": "python",
   "nbconvert_exporter": "python",
   "pygments_lexer": "ipython3",
   "version": "3.6.4"
  }
 },
 "nbformat": 4,
 "nbformat_minor": 2
}
