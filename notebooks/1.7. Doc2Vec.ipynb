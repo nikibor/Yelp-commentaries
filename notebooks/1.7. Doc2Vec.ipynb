{
 "cells": [
  {
   "cell_type": "code",
   "execution_count": 2,
   "metadata": {},
   "outputs": [],
   "source": [
    "import logging\n",
    "logging.root.handlers = []  # Jupyter messes up logging so needs a reset\n",
    "logging.basicConfig(format='%(asctime)s : %(levelname)s : %(message)s', level=logging.INFO)\n",
    "import pandas as pd\n",
    "import numpy as np\n",
    "from numpy import random\n",
    "import gensim\n",
    "import nltk\n",
    "from sklearn.cross_validation import train_test_split\n",
    "from sklearn import linear_model\n",
    "from sklearn.metrics import accuracy_score, confusion_matrix\n",
    "import matplotlib.pyplot as plt\n",
    "from gensim.models import Word2Vec\n",
    "from nltk.corpus import stopwords\n",
    "from sklearn.neighbors import KNeighborsClassifier\n",
    "from gensim.models import Doc2Vec\n",
    "from gensim.models.doc2vec import TaggedDocument"
   ]
  },
  {
   "cell_type": "code",
   "execution_count": 3,
   "metadata": {},
   "outputs": [
    {
     "data": {
      "text/html": [
       "<div>\n",
       "<style scoped>\n",
       "    .dataframe tbody tr th:only-of-type {\n",
       "        vertical-align: middle;\n",
       "    }\n",
       "\n",
       "    .dataframe tbody tr th {\n",
       "        vertical-align: top;\n",
       "    }\n",
       "\n",
       "    .dataframe thead th {\n",
       "        text-align: right;\n",
       "    }\n",
       "</style>\n",
       "<table border=\"1\" class=\"dataframe\">\n",
       "  <thead>\n",
       "    <tr style=\"text-align: right;\">\n",
       "      <th></th>\n",
       "      <th>stars</th>\n",
       "      <th>text</th>\n",
       "      <th>useful</th>\n",
       "      <th>funny</th>\n",
       "    </tr>\n",
       "  </thead>\n",
       "  <tbody>\n",
       "    <tr>\n",
       "      <th>0</th>\n",
       "      <td>3</td>\n",
       "      <td>The good: mini doughnuts and americano friendl...</td>\n",
       "      <td>1</td>\n",
       "      <td>0</td>\n",
       "    </tr>\n",
       "    <tr>\n",
       "      <th>1</th>\n",
       "      <td>3</td>\n",
       "      <td>I really like the décor of the place and the w...</td>\n",
       "      <td>0</td>\n",
       "      <td>0</td>\n",
       "    </tr>\n",
       "    <tr>\n",
       "      <th>2</th>\n",
       "      <td>5</td>\n",
       "      <td>Great service, clean and great food, this plac...</td>\n",
       "      <td>1</td>\n",
       "      <td>0</td>\n",
       "    </tr>\n",
       "    <tr>\n",
       "      <th>3</th>\n",
       "      <td>5</td>\n",
       "      <td>This place has never failed on me! \\nLate nigh...</td>\n",
       "      <td>0</td>\n",
       "      <td>0</td>\n",
       "    </tr>\n",
       "    <tr>\n",
       "      <th>4</th>\n",
       "      <td>2</td>\n",
       "      <td>This is a fast food spin off from Paramount Fi...</td>\n",
       "      <td>1</td>\n",
       "      <td>1</td>\n",
       "    </tr>\n",
       "  </tbody>\n",
       "</table>\n",
       "</div>"
      ],
      "text/plain": [
       "   stars                                               text  useful  funny\n",
       "0      3  The good: mini doughnuts and americano friendl...       1      0\n",
       "1      3  I really like the décor of the place and the w...       0      0\n",
       "2      5  Great service, clean and great food, this plac...       1      0\n",
       "3      5  This place has never failed on me! \\nLate nigh...       0      0\n",
       "4      2  This is a fast food spin off from Paramount Fi...       1      1"
      ]
     },
     "execution_count": 3,
     "metadata": {},
     "output_type": "execute_result"
    }
   ],
   "source": [
    "data = pd.read_csv('/home/nikita/PycharmProjects/natural_language/data/test_prepocess.csv')\n",
    "data.head()"
   ]
  },
  {
   "cell_type": "code",
   "execution_count": 4,
   "metadata": {},
   "outputs": [],
   "source": [
    "train_data, test_data = train_test_split(data, test_size=0.1, random_state=42)\n",
    "train_batch = train_data[0:10000]\n",
    "test_batch = test_data[0:50000]"
   ]
  },
  {
   "cell_type": "code",
   "execution_count": 5,
   "metadata": {},
   "outputs": [],
   "source": [
    "def tokenize_text(text):\n",
    "    tokens = []\n",
    "    for sent in nltk.sent_tokenize(text):\n",
    "        for word in nltk.word_tokenize(sent):\n",
    "            if len(word) < 2:\n",
    "                continue\n",
    "            tokens.append(word.lower())\n",
    "    return tokens"
   ]
  },
  {
   "cell_type": "code",
   "execution_count": 6,
   "metadata": {},
   "outputs": [
    {
     "name": "stdout",
     "output_type": "stream",
     "text": [
      "CPU times: user 15 s, sys: 44.7 ms, total: 15.1 s\n",
      "Wall time: 15.2 s\n"
     ]
    }
   ],
   "source": [
    "%%time\n",
    "train_tagged = train_batch.apply(\n",
    "    lambda r: TaggedDocument(words=tokenize_text(r.text), tags=[r.stars]), axis=1)"
   ]
  },
  {
   "cell_type": "code",
   "execution_count": 7,
   "metadata": {},
   "outputs": [
    {
     "name": "stdout",
     "output_type": "stream",
     "text": [
      "CPU times: user 1min 13s, sys: 152 ms, total: 1min 14s\n",
      "Wall time: 1min 14s\n"
     ]
    }
   ],
   "source": [
    "%%time\n",
    "test_tagged = test_batch.apply(\n",
    "    lambda r: TaggedDocument(words=tokenize_text(r.text), tags=[r.stars]), axis=1)"
   ]
  },
  {
   "cell_type": "code",
   "execution_count": 8,
   "metadata": {},
   "outputs": [
    {
     "data": {
      "text/plain": [
       "TaggedDocument(words=['3.75', 'stars', 'this', 'place', 'does', \"n't\", 'really', 'qualify', 'as', 'greasy', 'spoon', 'or', 'diner', 'but', 'it', \"'s\", 'breakfast', 'special', 'is', 'called', '``', 'the', 'greasy', 'spoon', \"''\", 'so', 'it', 'counts', 'actually', 'the', '``', 'greasy', 'spoon', 'jr.', \"''\", 'at', '5.95', 'contains', 'xl', 'eggs', 'choice', 'of', 'side', 'home', 'fries', 'and', 'toast', \"''\", 'the', '``', 'greasy', 'spoon', 'sr.', \"''\", 'contains', 'the', 'same', 'as', 'the', 'jr', '...', '.only', 'bigger', 'makes', 'sense', 'the', 'meat', 'options', 'bacon', 'sausage', 'etc', 'qualifies', 'as', 'the', '``', 'side', \"''\", 'as', 'does', 'home', 'made', 'fruit', 'salad', 'which', 'had', 'nice', 'order', 'at', 'the', 'counter', 'take', 'seat', 'and', 'the', 'friendly', 'staff', 'will', 'deliver', 'your', 'food', 'coffee', 'is', 'self', 'serve', 'but', 'bottomless', 'definitely', 'more', 'of', 'cafe', 'than', 'diner', 'vibe', 'but', 'the', 'breakfast', 'fits', 'the', 'bill'], tags=[4])"
      ]
     },
     "execution_count": 8,
     "metadata": {},
     "output_type": "execute_result"
    }
   ],
   "source": [
    "test_tagged.values[50]"
   ]
  },
  {
   "cell_type": "code",
   "execution_count": 9,
   "metadata": {},
   "outputs": [
    {
     "name": "stderr",
     "output_type": "stream",
     "text": [
      "/home/nikita/anaconda3/lib/python3.6/site-packages/gensim/models/doc2vec.py:362: UserWarning: The parameter `iter` is deprecated, will be removed in 4.0.0, use `epochs` instead.\n",
      "  warnings.warn(\"The parameter `iter` is deprecated, will be removed in 4.0.0, use `epochs` instead.\")\n",
      "2018-05-07 07:38:53,939 : INFO : collecting all words and their counts\n",
      "2018-05-07 07:38:53,940 : INFO : PROGRESS: at example #0, processed 0 words (0/s), 0 word types, 0 tags\n",
      "2018-05-07 07:38:54,146 : INFO : collected 35280 word types and 6 unique tags from a corpus of 10000 examples and 1106108 words\n",
      "2018-05-07 07:38:54,147 : INFO : Loading a fresh vocabulary\n",
      "2018-05-07 07:38:54,182 : INFO : min_count=5 retains 8902 unique words (25% of original 35280, drops 26378)\n",
      "2018-05-07 07:38:54,183 : INFO : min_count=5 leaves 1065945 word corpus (96% of original 1106108, drops 40163)\n",
      "2018-05-07 07:38:54,211 : INFO : deleting the raw counts dictionary of 35280 items\n",
      "2018-05-07 07:38:54,213 : INFO : sample=0.001 downsamples 58 most-common words\n",
      "2018-05-07 07:38:54,213 : INFO : downsampling leaves estimated 805430 word corpus (75.6% of prior 1065945)\n",
      "2018-05-07 07:38:54,247 : INFO : estimated required memory for 8902 words and 100 dimensions: 11575000 bytes\n",
      "2018-05-07 07:38:54,248 : INFO : resetting layer weights\n",
      "2018-05-07 07:38:54,343 : INFO : training model with 3 workers on 8902 vocabulary and 100 features, using sg=0 hs=0 sample=0.001 negative=5 window=5\n",
      "2018-05-07 07:38:55,365 : INFO : EPOCH 1 - PROGRESS: at 86.60% examples, 701340 words/s, in_qsize 5, out_qsize 0\n",
      "2018-05-07 07:38:55,524 : INFO : worker thread finished; awaiting finish of 2 more threads\n",
      "2018-05-07 07:38:55,525 : INFO : worker thread finished; awaiting finish of 1 more threads\n",
      "2018-05-07 07:38:55,544 : INFO : worker thread finished; awaiting finish of 0 more threads\n",
      "2018-05-07 07:38:55,544 : INFO : EPOCH - 1 : training on 1106108 raw words (815460 effective words) took 1.2s, 687021 effective words/s\n",
      "2018-05-07 07:38:56,560 : INFO : EPOCH 2 - PROGRESS: at 77.84% examples, 626209 words/s, in_qsize 6, out_qsize 0\n",
      "2018-05-07 07:38:56,791 : INFO : worker thread finished; awaiting finish of 2 more threads\n",
      "2018-05-07 07:38:56,804 : INFO : worker thread finished; awaiting finish of 1 more threads\n",
      "2018-05-07 07:38:56,810 : INFO : worker thread finished; awaiting finish of 0 more threads\n",
      "2018-05-07 07:38:56,811 : INFO : EPOCH - 2 : training on 1106108 raw words (815130 effective words) took 1.3s, 646165 effective words/s\n",
      "2018-05-07 07:38:57,834 : INFO : EPOCH 3 - PROGRESS: at 85.01% examples, 677723 words/s, in_qsize 5, out_qsize 0\n",
      "2018-05-07 07:38:57,992 : INFO : worker thread finished; awaiting finish of 2 more threads\n",
      "2018-05-07 07:38:57,997 : INFO : worker thread finished; awaiting finish of 1 more threads\n",
      "2018-05-07 07:38:57,999 : INFO : worker thread finished; awaiting finish of 0 more threads\n",
      "2018-05-07 07:38:58,000 : INFO : EPOCH - 3 : training on 1106108 raw words (815097 effective words) took 1.2s, 687397 effective words/s\n",
      "2018-05-07 07:38:59,013 : INFO : EPOCH 4 - PROGRESS: at 88.43% examples, 714560 words/s, in_qsize 5, out_qsize 0\n",
      "2018-05-07 07:38:59,147 : INFO : worker thread finished; awaiting finish of 2 more threads\n",
      "2018-05-07 07:38:59,148 : INFO : worker thread finished; awaiting finish of 1 more threads\n",
      "2018-05-07 07:38:59,154 : INFO : worker thread finished; awaiting finish of 0 more threads\n",
      "2018-05-07 07:38:59,155 : INFO : EPOCH - 4 : training on 1106108 raw words (815544 effective words) took 1.2s, 708668 effective words/s\n",
      "2018-05-07 07:39:00,160 : INFO : EPOCH 5 - PROGRESS: at 78.70% examples, 639722 words/s, in_qsize 5, out_qsize 0\n",
      "2018-05-07 07:39:00,391 : INFO : worker thread finished; awaiting finish of 2 more threads\n",
      "2018-05-07 07:39:00,395 : INFO : worker thread finished; awaiting finish of 1 more threads\n",
      "2018-05-07 07:39:00,409 : INFO : worker thread finished; awaiting finish of 0 more threads\n",
      "2018-05-07 07:39:00,410 : INFO : EPOCH - 5 : training on 1106108 raw words (815418 effective words) took 1.3s, 651696 effective words/s\n",
      "2018-05-07 07:39:01,423 : INFO : EPOCH 6 - PROGRESS: at 77.84% examples, 626871 words/s, in_qsize 6, out_qsize 0\n",
      "2018-05-07 07:39:01,693 : INFO : worker thread finished; awaiting finish of 2 more threads\n",
      "2018-05-07 07:39:01,695 : INFO : worker thread finished; awaiting finish of 1 more threads\n",
      "2018-05-07 07:39:01,718 : INFO : worker thread finished; awaiting finish of 0 more threads\n",
      "2018-05-07 07:39:01,719 : INFO : EPOCH - 6 : training on 1106108 raw words (815354 effective words) took 1.3s, 624719 effective words/s\n",
      "2018-05-07 07:39:02,728 : INFO : EPOCH 7 - PROGRESS: at 76.91% examples, 623687 words/s, in_qsize 5, out_qsize 0\n",
      "2018-05-07 07:39:02,977 : INFO : worker thread finished; awaiting finish of 2 more threads\n",
      "2018-05-07 07:39:02,985 : INFO : worker thread finished; awaiting finish of 1 more threads\n",
      "2018-05-07 07:39:02,999 : INFO : worker thread finished; awaiting finish of 0 more threads\n",
      "2018-05-07 07:39:03,000 : INFO : EPOCH - 7 : training on 1106108 raw words (815788 effective words) took 1.3s, 639604 effective words/s\n",
      "2018-05-07 07:39:04,023 : INFO : EPOCH 8 - PROGRESS: at 84.89% examples, 679501 words/s, in_qsize 5, out_qsize 0\n",
      "2018-05-07 07:39:04,167 : INFO : worker thread finished; awaiting finish of 2 more threads\n",
      "2018-05-07 07:39:04,186 : INFO : worker thread finished; awaiting finish of 1 more threads\n",
      "2018-05-07 07:39:04,193 : INFO : worker thread finished; awaiting finish of 0 more threads\n",
      "2018-05-07 07:39:04,194 : INFO : EPOCH - 8 : training on 1106108 raw words (814957 effective words) took 1.2s, 686131 effective words/s\n",
      "2018-05-07 07:39:05,207 : INFO : EPOCH 9 - PROGRESS: at 84.07% examples, 678033 words/s, in_qsize 5, out_qsize 0\n",
      "2018-05-07 07:39:05,401 : INFO : worker thread finished; awaiting finish of 2 more threads\n",
      "2018-05-07 07:39:05,407 : INFO : worker thread finished; awaiting finish of 1 more threads\n",
      "2018-05-07 07:39:05,414 : INFO : worker thread finished; awaiting finish of 0 more threads\n",
      "2018-05-07 07:39:05,415 : INFO : EPOCH - 9 : training on 1106108 raw words (815624 effective words) took 1.2s, 670507 effective words/s\n",
      "2018-05-07 07:39:06,426 : INFO : EPOCH 10 - PROGRESS: at 89.19% examples, 722032 words/s, in_qsize 5, out_qsize 0\n",
      "2018-05-07 07:39:06,539 : INFO : worker thread finished; awaiting finish of 2 more threads\n",
      "2018-05-07 07:39:06,540 : INFO : worker thread finished; awaiting finish of 1 more threads\n",
      "2018-05-07 07:39:06,548 : INFO : worker thread finished; awaiting finish of 0 more threads\n",
      "2018-05-07 07:39:06,548 : INFO : EPOCH - 10 : training on 1106108 raw words (814936 effective words) took 1.1s, 721245 effective words/s\n",
      "2018-05-07 07:39:07,567 : INFO : EPOCH 11 - PROGRESS: at 79.54% examples, 638884 words/s, in_qsize 5, out_qsize 0\n",
      "2018-05-07 07:39:07,809 : INFO : worker thread finished; awaiting finish of 2 more threads\n",
      "2018-05-07 07:39:07,810 : INFO : worker thread finished; awaiting finish of 1 more threads\n",
      "2018-05-07 07:39:07,817 : INFO : worker thread finished; awaiting finish of 0 more threads\n",
      "2018-05-07 07:39:07,818 : INFO : EPOCH - 11 : training on 1106108 raw words (815473 effective words) took 1.3s, 644828 effective words/s\n",
      "2018-05-07 07:39:08,831 : INFO : EPOCH 12 - PROGRESS: at 76.03% examples, 612147 words/s, in_qsize 6, out_qsize 0\n",
      "2018-05-07 07:39:09,100 : INFO : worker thread finished; awaiting finish of 2 more threads\n",
      "2018-05-07 07:39:09,106 : INFO : worker thread finished; awaiting finish of 1 more threads\n",
      "2018-05-07 07:39:09,119 : INFO : worker thread finished; awaiting finish of 0 more threads\n",
      "2018-05-07 07:39:09,120 : INFO : EPOCH - 12 : training on 1106108 raw words (815319 effective words) took 1.3s, 628068 effective words/s\n",
      "2018-05-07 07:39:10,141 : INFO : EPOCH 13 - PROGRESS: at 83.14% examples, 666684 words/s, in_qsize 5, out_qsize 0\n",
      "2018-05-07 07:39:10,308 : INFO : worker thread finished; awaiting finish of 2 more threads\n",
      "2018-05-07 07:39:10,327 : INFO : worker thread finished; awaiting finish of 1 more threads\n",
      "2018-05-07 07:39:10,333 : INFO : worker thread finished; awaiting finish of 0 more threads\n",
      "2018-05-07 07:39:10,334 : INFO : EPOCH - 13 : training on 1106108 raw words (815227 effective words) took 1.2s, 674363 effective words/s\n"
     ]
    },
    {
     "name": "stderr",
     "output_type": "stream",
     "text": [
      "2018-05-07 07:39:11,339 : INFO : EPOCH 14 - PROGRESS: at 80.45% examples, 653594 words/s, in_qsize 5, out_qsize 0\n",
      "2018-05-07 07:39:11,562 : INFO : worker thread finished; awaiting finish of 2 more threads\n",
      "2018-05-07 07:39:11,566 : INFO : worker thread finished; awaiting finish of 1 more threads\n",
      "2018-05-07 07:39:11,585 : INFO : worker thread finished; awaiting finish of 0 more threads\n",
      "2018-05-07 07:39:11,586 : INFO : EPOCH - 14 : training on 1106108 raw words (815297 effective words) took 1.2s, 653422 effective words/s\n",
      "2018-05-07 07:39:12,595 : INFO : EPOCH 15 - PROGRESS: at 84.89% examples, 688657 words/s, in_qsize 5, out_qsize 0\n",
      "2018-05-07 07:39:12,749 : INFO : worker thread finished; awaiting finish of 2 more threads\n",
      "2018-05-07 07:39:12,764 : INFO : worker thread finished; awaiting finish of 1 more threads\n",
      "2018-05-07 07:39:12,770 : INFO : worker thread finished; awaiting finish of 0 more threads\n",
      "2018-05-07 07:39:12,771 : INFO : EPOCH - 15 : training on 1106108 raw words (815801 effective words) took 1.2s, 691393 effective words/s\n",
      "2018-05-07 07:39:13,794 : INFO : EPOCH 16 - PROGRESS: at 87.51% examples, 699326 words/s, in_qsize 5, out_qsize 0\n",
      "2018-05-07 07:39:13,925 : INFO : worker thread finished; awaiting finish of 2 more threads\n",
      "2018-05-07 07:39:13,928 : INFO : worker thread finished; awaiting finish of 1 more threads\n",
      "2018-05-07 07:39:13,932 : INFO : worker thread finished; awaiting finish of 0 more threads\n",
      "2018-05-07 07:39:13,933 : INFO : EPOCH - 16 : training on 1106108 raw words (815676 effective words) took 1.2s, 703779 effective words/s\n",
      "2018-05-07 07:39:14,942 : INFO : EPOCH 17 - PROGRESS: at 81.27% examples, 660192 words/s, in_qsize 5, out_qsize 0\n",
      "2018-05-07 07:39:15,147 : INFO : worker thread finished; awaiting finish of 2 more threads\n",
      "2018-05-07 07:39:15,150 : INFO : worker thread finished; awaiting finish of 1 more threads\n",
      "2018-05-07 07:39:15,164 : INFO : worker thread finished; awaiting finish of 0 more threads\n",
      "2018-05-07 07:39:15,165 : INFO : EPOCH - 17 : training on 1106108 raw words (815902 effective words) took 1.2s, 665335 effective words/s\n",
      "2018-05-07 07:39:16,180 : INFO : EPOCH 18 - PROGRESS: at 83.96% examples, 676708 words/s, in_qsize 5, out_qsize 0\n",
      "2018-05-07 07:39:16,363 : INFO : worker thread finished; awaiting finish of 2 more threads\n",
      "2018-05-07 07:39:16,365 : INFO : worker thread finished; awaiting finish of 1 more threads\n",
      "2018-05-07 07:39:16,378 : INFO : worker thread finished; awaiting finish of 0 more threads\n",
      "2018-05-07 07:39:16,379 : INFO : EPOCH - 18 : training on 1106108 raw words (815653 effective words) took 1.2s, 673649 effective words/s\n",
      "2018-05-07 07:39:17,388 : INFO : EPOCH 19 - PROGRESS: at 76.03% examples, 614180 words/s, in_qsize 5, out_qsize 0\n",
      "2018-05-07 07:39:17,664 : INFO : worker thread finished; awaiting finish of 2 more threads\n",
      "2018-05-07 07:39:17,674 : INFO : worker thread finished; awaiting finish of 1 more threads\n",
      "2018-05-07 07:39:17,681 : INFO : worker thread finished; awaiting finish of 0 more threads\n",
      "2018-05-07 07:39:17,682 : INFO : EPOCH - 19 : training on 1106108 raw words (815059 effective words) took 1.3s, 626752 effective words/s\n",
      "2018-05-07 07:39:18,705 : INFO : EPOCH 20 - PROGRESS: at 84.89% examples, 680950 words/s, in_qsize 5, out_qsize 0\n",
      "2018-05-07 07:39:18,881 : INFO : worker thread finished; awaiting finish of 2 more threads\n",
      "2018-05-07 07:39:18,884 : INFO : worker thread finished; awaiting finish of 1 more threads\n",
      "2018-05-07 07:39:18,888 : INFO : worker thread finished; awaiting finish of 0 more threads\n",
      "2018-05-07 07:39:18,889 : INFO : EPOCH - 20 : training on 1106108 raw words (815229 effective words) took 1.2s, 680027 effective words/s\n",
      "2018-05-07 07:39:18,889 : INFO : training on a 22122160 raw words (16307944 effective words) took 24.5s, 664393 effective words/s\n"
     ]
    },
    {
     "name": "stdout",
     "output_type": "stream",
     "text": [
      "CPU times: user 1min 25s, sys: 1.32 s, total: 1min 26s\n",
      "Wall time: 53.5 s\n"
     ]
    }
   ],
   "source": [
    "%%time\n",
    "trainsent = train_tagged.values\n",
    "testsent = test_tagged.values\n",
    "\n",
    "# simple gensim doc2vec api\n",
    "doc2vec_model = Doc2Vec(trainsent, workers=3, iter=20)\n",
    "\n",
    "train_targets, train_regressors = zip(\n",
    "    *[(doc.tags[0], doc2vec_model.infer_vector(doc.words, steps=20)) for doc in trainsent])"
   ]
  },
  {
   "cell_type": "code",
   "execution_count": 10,
   "metadata": {},
   "outputs": [
    {
     "name": "stdout",
     "output_type": "stream",
     "text": [
      "CPU times: user 2min 18s, sys: 159 ms, total: 2min 18s\n",
      "Wall time: 2min 18s\n"
     ]
    }
   ],
   "source": [
    "%%time\n",
    "test_targets, test_regressors = zip(\n",
    "    *[(doc.tags[0], doc2vec_model.infer_vector(doc.words, steps=20)) for doc in testsent])"
   ]
  },
  {
   "cell_type": "code",
   "execution_count": 13,
   "metadata": {},
   "outputs": [],
   "source": [
    "def evaluate_prediction(predictions, target, title=\"Confusion matrix\"):\n",
    "    print('accuracy %s' % accuracy_score(target, predictions))\n",
    "    cm = confusion_matrix(target, predictions)\n",
    "    print('confusion matrix\\n %s' % cm)\n",
    "    print('(row=expected, col=predicted)')\n",
    "    \n",
    "    cm_normalized = cm.astype('float') / cm.sum(axis=1)[:, np.newaxis]\n",
    "    plot_confusion_matrix(cm_normalized, title + ' Normalized')\n",
    "    \n",
    "def plot_confusion_matrix(cm, title='Матрица ошибок', cmap=plt.cm.Blues):\n",
    "    plt.imshow(cm, interpolation='nearest', cmap=cmap)\n",
    "    plt.title(title)\n",
    "    plt.colorbar()\n",
    "    my_tags = pd.unique(data.stars)\n",
    "    tick_marks = np.arange(len(my_tags))\n",
    "    target_names = my_tags\n",
    "    plt.xticks(tick_marks, target_names, rotation=45)\n",
    "    plt.yticks(tick_marks, target_names)\n",
    "    plt.tight_layout()\n",
    "    plt.ylabel('Исходные метки')\n",
    "    plt.xlabel('Полученные метки')\n",
    "\n",
    "def predict(vectorizer, classifier, data):\n",
    "    data_features = vectorizer.transform(data.text)\n",
    "    predictions = classifier.predict(data_features)\n",
    "    target = data.stars\n",
    "    evaluate_prediction(predictions, target)"
   ]
  },
  {
   "cell_type": "code",
   "execution_count": 14,
   "metadata": {},
   "outputs": [
    {
     "name": "stdout",
     "output_type": "stream",
     "text": [
      "accuracy 0.5019\n",
      "confusion matrix\n",
      " [[ 3414   507   378   773  1802]\n",
      " [ 1131   505   589   716  1115]\n",
      " [  719   473   831  1694  2205]\n",
      " [  564   372   819  3144  6809]\n",
      " [  716   227   470  2826 17201]]\n",
      "(row=expected, col=predicted)\n",
      "CPU times: user 1.68 s, sys: 24.1 ms, total: 1.7 s\n",
      "Wall time: 1.79 s\n"
     ]
    },
    {
     "data": {
      "image/png": "[encoded data removed]",
      "text/plain": [
       "<matplotlib.figure.Figure at 0x7f1c59004ba8>"
      ]
     },
     "metadata": {},
     "output_type": "display_data"
    }
   ],
   "source": [
    "%%time\n",
    "logreg = linear_model.LogisticRegression(n_jobs=1, C=1e5)\n",
    "logreg = logreg.fit(train_regressors, train_targets)\n",
    "evaluate_prediction(logreg.predict(test_regressors), test_targets, title=str(doc2vec_model))"
   ]
  },
  {
   "cell_type": "code",
   "execution_count": null,
   "metadata": {},
   "outputs": [],
   "source": []
  }
 ],
 "metadata": {
  "kernelspec": {
   "display_name": "Python 3",
   "language": "python",
   "name": "python3"
  },
  "language_info": {
   "codemirror_mode": {
    "name": "ipython",
    "version": 3
   },
   "file_extension": ".py",
   "mimetype": "text/x-python",
   "name": "python",
   "nbconvert_exporter": "python",
   "pygments_lexer": "ipython3",
   "version": "3.6.4"
  }
 },
 "nbformat": 4,
 "nbformat_minor": 2
}
