{
 "cells": [
  {
   "cell_type": "code",
   "execution_count": 7,
   "metadata": {},
   "outputs": [],
   "source": [
    "import numpy as np\n",
    "import pandas as pd\n",
    "from gensim.models import Word2Vec"
   ]
  },
  {
   "cell_type": "code",
   "execution_count": 2,
   "metadata": {},
   "outputs": [
    {
     "data": {
      "text/html": [
       "<div>\n",
       "<style scoped>\n",
       "    .dataframe tbody tr th:only-of-type {\n",
       "        vertical-align: middle;\n",
       "    }\n",
       "\n",
       "    .dataframe tbody tr th {\n",
       "        vertical-align: top;\n",
       "    }\n",
       "\n",
       "    .dataframe thead th {\n",
       "        text-align: right;\n",
       "    }\n",
       "</style>\n",
       "<table border=\"1\" class=\"dataframe\">\n",
       "  <thead>\n",
       "    <tr style=\"text-align: right;\">\n",
       "      <th></th>\n",
       "      <th>stars</th>\n",
       "      <th>text</th>\n",
       "      <th>useful</th>\n",
       "      <th>funny</th>\n",
       "    </tr>\n",
       "  </thead>\n",
       "  <tbody>\n",
       "    <tr>\n",
       "      <th>0</th>\n",
       "      <td>3</td>\n",
       "      <td>The good: mini doughnuts and americano friendl...</td>\n",
       "      <td>1</td>\n",
       "      <td>0</td>\n",
       "    </tr>\n",
       "    <tr>\n",
       "      <th>1</th>\n",
       "      <td>3</td>\n",
       "      <td>I really like the décor of the place and the w...</td>\n",
       "      <td>0</td>\n",
       "      <td>0</td>\n",
       "    </tr>\n",
       "    <tr>\n",
       "      <th>2</th>\n",
       "      <td>5</td>\n",
       "      <td>Great service, clean and great food, this plac...</td>\n",
       "      <td>1</td>\n",
       "      <td>0</td>\n",
       "    </tr>\n",
       "    <tr>\n",
       "      <th>3</th>\n",
       "      <td>5</td>\n",
       "      <td>This place has never failed on me! \\nLate nigh...</td>\n",
       "      <td>0</td>\n",
       "      <td>0</td>\n",
       "    </tr>\n",
       "    <tr>\n",
       "      <th>4</th>\n",
       "      <td>2</td>\n",
       "      <td>This is a fast food spin off from Paramount Fi...</td>\n",
       "      <td>1</td>\n",
       "      <td>1</td>\n",
       "    </tr>\n",
       "  </tbody>\n",
       "</table>\n",
       "</div>"
      ],
      "text/plain": [
       "   stars                                               text  useful  funny\n",
       "0      3  The good: mini doughnuts and americano friendl...       1      0\n",
       "1      3  I really like the décor of the place and the w...       0      0\n",
       "2      5  Great service, clean and great food, this plac...       1      0\n",
       "3      5  This place has never failed on me! \\nLate nigh...       0      0\n",
       "4      2  This is a fast food spin off from Paramount Fi...       1      1"
      ]
     },
     "execution_count": 2,
     "metadata": {},
     "output_type": "execute_result"
    }
   ],
   "source": [
    "data = pd.read_csv('/home/nikita/PycharmProjects/natural_language/data/test_prepocess.csv')\n",
    "data.head()"
   ]
  },
  {
   "cell_type": "code",
   "execution_count": 4,
   "metadata": {},
   "outputs": [
    {
     "name": "stdout",
     "output_type": "stream",
     "text": [
      "0    The good: mini doughnuts and americano friendl...\n",
      "1    I really like the décor of the place and the w...\n",
      "2    Great service, clean and great food, this plac...\n",
      "3    This place has never failed on me! \\nLate nigh...\n",
      "4    This is a fast food spin off from Paramount Fi...\n",
      "5    Your food is just as scrumptious here as at an...\n",
      "6    It's a good place to go at least once.  It was...\n",
      "7    We like this place a lot. There aren't too man...\n",
      "8    Sweet baby Jesus. All my prayers have been ans...\n",
      "9    Some cute and affordable stuff. They are very ...\n",
      "Name: text, dtype: object\n"
     ]
    }
   ],
   "source": [
    "examples = data.text[0:10]\n",
    "print(examples)"
   ]
  },
  {
   "cell_type": "code",
   "execution_count": 6,
   "metadata": {},
   "outputs": [
    {
     "name": "stdout",
     "output_type": "stream",
     "text": [
      "[['The', 'good:', 'mini', 'doughnuts', 'and', 'americano', 'friendly', 'staff.', 'The', 'asiago', 'cheese', 'bagel', 'was', 'good', 'as', 'well.', 'The', 'bad:', 'burnt', 'oil', 'smell', 'and', 'smoke', 'filled', 'the', 'air', 'from', 'the', 'fryer.', 'The', 'worst', 'cappuccino', 'I', 'have', 'ever', 'had.', 'Not', 'sure', 'if', \"I'll\", 'be', 'back.'], ['I', 'really', 'like', 'the', 'décor', 'of', 'the', 'place', 'and', 'the', 'waitresses', 'and', 'hostesses', 'are', 'cute', 'which', 'does', 'add', 'something', 'to', 'a', 'place', 'but', 'when', 'I', 'go', 'to', 'a', 'place', 'called', 'tacos', 'and', 'beer,', 'I', 'want', 'some', 'good', 'tacos', 'and', 'beer.', 'The', 'tacos', 'were', 'good,', \"don't\", 'get', 'me', 'wrong', 'but', 'all', 'of', 'these', \"people's\", 'reviews', 'saying', 'they', 'are', 'the', 'best', 'in', 'town', 'are', 'kidding', 'themselves.', 'I', 'love', 'the', 'variety', 'and', 'even', 'love', 'that', 'they', 'have', 'so', 'many', 'vegan', 'options', '(even', 'though', 'I', 'am', 'a', 'staunch', 'meat', 'eater).', 'I', 'love', 'the', 'variety', 'of', 'unique', 'appetizers', 'but', 'the', 'flavor', 'seemed', 'to', 'be', 'lacking', 'on', 'everything', 'and', 'I', 'made', 'sure', 'to', 'try', 'a', 'lot.', 'I', 'had', '6', 'different', 'tacos', 'and', '2', 'appetizers', 'and', 'a', 'passion', 'fruit', 'margarita', 'which', 'seemed', 'so', 'fake', 'tasting,', 'way', 'too', 'sugary.', 'I', 'would', 'go', 'back', 'and', 'try', 'this', 'place', 'again', 'but', 'probably', 'not', 'for', 'a', 'bit.', 'I', 'feel', 'like', 'there', 'of', 'plenty', 'of', 'other', 'places', 'that', 'you', 'can', 'have', 'a', 'better', 'taco', 'at', 'in', 'the', 'valley.', 'Maybe', 'the', 'atmosphere', \"won't\", 'be', 'as', 'nice', 'but', 'it', 'will', 'be', 'cheaper', 'and', 'tastier.', 'I', 'was', 'so', 'full', 'though', 'after', 'eating', 'all', 'of', 'that', 'that', 'I', 'unfortunately', 'did', 'not', 'get', 'to', 'try', 'their', 'desserts', 'which', 'I', 'REALLY', 'wanted', 'to', 'try.', 'I', 'guess', 'that', 'gives', 'me', 'an', 'excuse', 'to', 'go', 'back!'], ['Great', 'service,', 'clean', 'and', 'great', 'food,', 'this', 'place', \"doesn't\", 'run', 'shy', 'of', '5', 'stars', 'in', 'any', 'way.'], ['This', 'place', 'has', 'never', 'failed', 'on', 'me!', 'Late', 'night', 'cravings', 'are', 'always', 'satisfy', 'from', 'this', 'place.', 'Cheap', 'and', 'good', 'quality', 'tacos.', 'Open', 'really', 'late!'], ['This', 'is', 'a', 'fast', 'food', 'spin', 'off', 'from', 'Paramount', 'Fine', 'Foods', 'restaurant.', 'The', 'whole', 'concept', 'is', 'a', 'bit', 'confusing,', 'as', 'it', 'is', 'essentially', 'like', 'Subway,', 'but', 'with', 'a', 'Middle', 'Eastern', 'twist,', 'which', 'includes', 'halah', 'meats,', 'sauces(tahini', 'saucce,', 'hummus,', 'zaatar', 'sauce,', 'and', 'fattoush),', 'and', 'baklava.', 'My', 'first', 'visit,', 'I', 'came', 'here', 'craving', 'shawarma.', 'Sadly,', 'they', 'ran', 'out', 'of', 'shawarma', 'meat,', 'pretty', 'disappointing', 'given', 'this', 'is', 'a', 'Middle', 'Eastern', 'joint.', 'Luckily,', 'during', 'my', 'recent', 'visit,', 'they', 'actually', 'had', 'shawarmas.', 'BUT,', 'the', 'meat', 'was', 'cold,', 'and', 'was', 'not', 'sliced', 'on', 'the', 'rotating', 'cone,', 'there', \"wasn't\", 'picked', 'vegetables,', 'or', 'garlic', 'mayo.', 'All', 'the', 'components', 'that', 'make', 'a', 'good', 'shawarma,', 'in', 'my', 'opinion,', 'was', 'missing.', 'Overall', 'verdict:', 'Rather', 'go', 'to', 'Ali', \"Baba's\", 'down', 'the', 'street', 'for', 'some', 'more', 'authentic', 'shawarma.'], ['Your', 'food', 'is', 'just', 'as', 'scrumptious', 'here', 'as', 'at', 'any', 'of', 'your', 'other', 'locations.', 'I', 'get', 'that', \"you're\", 'new', 'and', 'working', 'out', 'a', 'few', 'of', 'the', 'kinks.', 'Let', 'me', 'help', 'you...', 'Dude', 'at', 'the', 'welcome', 'station', 'wrote', 'down', 'my', 'phone', 'number', 'for', 'texting', 'incorrectly', '-', 'twice.', 'So', 'we', 'waited', 'an', 'extra', '15', 'minutes', 'until', 'someone', 'else', 'was', 'smart', 'enough', 'to', 'call', 'out', 'our', 'name.', 'Your', 'servers', 'are', 'quite', 'inattentive.', \"I'd\", 'like', 'my', 'water', 'refreshed,', \"I'd\", 'like', 'my', 'coffee', 'refreshed,', \"I'd\", 'like', 'someone', 'to', 'ask', 'how', \"I'm\", 'doing.', 'Snap', 'it', 'up', 'folks', '-', 'good', 'food', 'calls', 'me', 'back,', 'but', 'inferior', 'service', 'sends', 'me', 'down', 'the', 'street.'], [\"It's\", 'a', 'good', 'place', 'to', 'go', 'at', 'least', 'once.', 'It', 'was', 'a', 'nice', 'experience.', 'I', 'give', 'the', 'atmosphere', '5', 'stars,', 'especially', 'if', \"you're\", 'looking', 'for', 'a', 'quiet,', 'romantic', 'setting.', 'I', 'give', 'the', 'food', '3', 'stars...the', 'food', 'was', 'good,', 'not', 'fabulous,', 'but', 'in', 'my', 'opinion', 'a', 'little', 'overpriced,', 'and', \"that's\", 'why', 'I', 'say', '3', 'stars.', 'We', 'got', 'the', '4', 'course', 'meal', 'and', 'the', 'portions', 'were', 'the', 'perfect', 'size.', 'Not', 'too', 'big,', 'not', 'too', 'small.', 'We', 'left', 'feeling', 'full', 'and', 'taking', 'nothing', 'home,', 'which', 'is', 'exactly', 'how', 'I', 'like', 'it!', \"I'd\", 'give', 'the', 'service', '3', 'stars.', 'The', 'server', 'was', 'polite', 'and', 'professional', 'and', 'offered', 'good', 'suggestions,', 'but', 'service', 'was', 'a', 'bit', 'slow', 'at', 'times.', 'We', 'were', 'there', 'about', '2.5', 'hours', '(just', 'two', 'of', 'us).', 'Perfect', 'if', \"you're\", 'just', 'getting', 'to', 'know', 'someone', 'and', 'have', 'a', 'lot', 'to', 'talk', 'about,', 'but', 'a', 'little', 'too', 'much', 'time', 'for', 'my', 'husband', 'and', 'I,', 'who', 'have', 'been', 'married', 'a', 'while.', 'Our', 'check', 'was', '$100,', 'and', 'that', 'was', 'with', 'no', 'alcoholic', 'beverages.', 'It', 'was', 'a', 'cool', 'thing', 'to', 'do', 'once,', 'but', 'in', 'the', 'future', 'we', 'may', 'end', 'up', 'getting', 'a', 'fondue', 'set', 'and', 'doing', 'this', 'all', 'at', 'home.', ':)'], ['We', 'like', 'this', 'place', 'a', 'lot.', 'There', \"aren't\", 'too', 'many', 'ramen', 'places', 'to', 'chose', 'from', 'in', 'Arizona', 'and', 'although', 'this', 'may', 'not', 'be', 'the', 'most', 'authentic', 'ramen,', \"it's\", 'still', 'very', 'good.', 'The', 'meats', 'are', 'seasoned', 'well', 'and', 'the', 'different', 'soup', 'broths', 'are', 'always', 'very', 'flavorful.'], ['Sweet', 'baby', 'Jesus.', 'All', 'my', 'prayers', 'have', 'been', 'answered.', 'CFA', 'has', 'finally', 'come', 'to', 'Vegas!', 'No', 'more', 'driving', 'to', 'Cali', 'or', 'Utah', 'for', 'my', 'fix.', 'And', 'just', 'when', 'you', 'thought', 'nothing', 'could', 'top', \"that...they're\", 'now', 'open', 'on', 'Sundays.', 'JUST', 'KIDDING!!', 'But', 'we', 'do', 'have', 'another', 'location', 'that', 'recently', 'opened', 'as', 'well', '(located', 'on', 'Stephanie', 'St).', 'Two', 'is', 'always', 'better', 'than', 'one,', 'am', 'I', 'right?', 'First', 'and', 'foremost,', 'the', 'customer', 'service', 'is', 'top', 'notch.', \"You'll\", 'never', 'find', 'better', 'service', 'at', 'a', 'fast', 'food', 'restaurant.', 'The', 'friendliest', 'staff.', 'Courteous,', 'helpful,', 'efficient', 'and', 'not', 'once', 'has', 'my', 'order', 'ever', 'been', 'wrong.', 'Unheard', 'of', 'right?', 'They', 'bring', 'the', 'food', 'to', 'your', 'table', 'and', 'even', 'check', 'to', 'see', 'if', 'you', 'need', 'any', 'sauces,', 'napkins,', 'wet', 'naps,', 'anything', 'to', 'make', 'your', 'experience', 'an', 'enjoyable', 'one.', 'And', 'the', 'food...where', 'do', 'I', 'begin?', 'Spicy', 'Chicken', 'Deluxe', 'has', 'always', 'been', 'my', 'all', 'time', 'favorite.', 'Other', 'top', 'faves:', 'Chicken', 'Salad', 'Sandwich,', 'Grilled', 'Cool', 'Wrap', 'and', 'the', 'Chicken', 'Nuggets', 'or', 'Tenders.', 'Not', 'a', 'huge', 'fan', 'of', 'breakfast', 'here.', 'But', 'no', 'biggie,', 'I', 'can', 'wait', 'for', 'lunch', ':)', 'And', 'be', 'sure', 'to', 'try', 'the', 'sauces.', \"It's\", 'not', 'like', \"McDonald's\", 'where', 'they', 'nickel', 'and', 'dime', 'you', 'for', 'those.', 'You', 'can', 'get', 'as', 'many', 'as', 'you', 'like.', 'If', 'you', \"can't\", 'decide,', 'ask', 'for', 'one', 'of', 'each.', 'They', 'are', 'more', 'than', 'happy', 'to', 'oblige.', 'My', 'personal', 'fave:', 'Sweet', '&', 'Spicy', 'Sriracha,', 'Polynesian,', 'CFA,', 'and', 'Honey', 'Mustard.', 'Thank', 'you', 'Chick-Fil-A', 'for', 'coming', 'to', 'Las', 'Vegas', 'and', 'reminding', 'us', 'to', 'Eat', 'Mor', 'Chikin!!!!!!!!'], ['Some', 'cute', 'and', 'affordable', 'stuff.', 'They', 'are', 'very', 'helpful', 'here.', 'In', 'fact,', 'the', 'staff', 'is', 'almost', 'too', 'helpful.', 'They', 'hover', 'a', 'bit', 'and', 'try', 'to', 'get', 'me', 'to', 'buy', 'some', 'membership', 'discount', 'card.', 'I', 'do', 'not', 'appreciate', 'the', 'high', 'pressure', 'pushing.', 'I', 'just', 'want', 'a', 'new', 'top', 'or', 'a', 'cheap', 'pair', 'of', 'shorts.']]\n"
     ]
    }
   ],
   "source": [
    "sentences = []\n",
    "for sen in examples:\n",
    "    sentences.append(sen.split())\n",
    "print(sentences)"
   ]
  },
  {
   "cell_type": "code",
   "execution_count": 9,
   "metadata": {},
   "outputs": [],
   "source": [
    "model = Word2Vec(sentences=sentences, size=100, window=5, min_count=5, workers=4, sg=0)"
   ]
  },
  {
   "cell_type": "code",
   "execution_count": 22,
   "metadata": {},
   "outputs": [
    {
     "data": {
      "text/plain": [
       "array([ 5.29202396e-07, -5.25027644e-06,  6.22029646e-08,  1.20225059e-06,\n",
       "        2.82513327e-07,  8.18999411e-07, -1.95610050e-06, -1.78617447e-05,\n",
       "        6.41038196e-06, -7.03257410e-06,  1.63786699e-05, -1.51752465e-05,\n",
       "       -6.06145159e-06, -6.75514548e-06, -1.04049750e-05,  1.85899880e-05,\n",
       "        5.54268263e-06, -1.63395976e-06,  8.31401394e-06, -3.60076319e-06,\n",
       "        4.56832680e-07, -4.62774324e-06,  1.13249030e-06, -1.07994365e-05,\n",
       "       -1.33806805e-06, -2.50716698e-06, -1.90867704e-05,  1.06193447e-05,\n",
       "       -2.52328073e-06,  3.42937278e-06, -1.95591224e-06,  8.06500168e-07,\n",
       "        7.45638499e-06,  1.77114416e-05,  1.17131713e-05, -1.41516948e-05,\n",
       "        1.36601921e-05, -1.13290163e-07,  3.64927155e-06, -1.86221689e-06,\n",
       "       -1.21678322e-05,  2.20339507e-06,  2.04110511e-05,  1.20901032e-05,\n",
       "        1.66069549e-05,  1.05202389e-05,  5.70841337e-07, -9.30610838e-07,\n",
       "       -2.85426665e-07,  2.83287562e-07, -4.58718068e-06,  1.58924904e-05,\n",
       "       -1.70921721e-05,  7.16442446e-06,  1.11975714e-06,  1.94266704e-06,\n",
       "       -3.90631811e-07, -1.30408825e-05, -2.65129785e-07, -3.00537909e-06,\n",
       "        1.29702776e-05,  8.95659650e-06, -1.37641600e-05, -2.55989653e-06,\n",
       "       -6.01998522e-07, -1.72948830e-06, -1.49397220e-05,  2.23889629e-06,\n",
       "        6.02061436e-06, -7.74109503e-06, -6.84059842e-06, -1.76719345e-06,\n",
       "       -3.88843432e-07, -2.39565054e-07, -9.61933608e-08,  1.04584092e-06,\n",
       "        1.38912685e-06,  7.88791749e-06,  5.28355258e-06, -1.67095482e-06,\n",
       "       -3.95479310e-06,  6.73270461e-06,  5.01843473e-08,  2.83774466e-06,\n",
       "        3.52489984e-08,  2.26516295e-05, -2.82439510e-06,  5.65097844e-06,\n",
       "        2.00292598e-05,  1.73744011e-05, -1.38531541e-05,  2.71967815e-06,\n",
       "       -1.32547320e-05, -5.64583479e-06,  7.31877344e-06, -5.99179486e-07,\n",
       "        9.98347969e-06,  2.94024312e-06,  1.39450194e-05, -1.14939667e-05],\n",
       "      dtype=float32)"
      ]
     },
     "execution_count": 22,
     "metadata": {},
     "output_type": "execute_result"
    }
   ],
   "source": [
    "# Векторное произведение слов. Вход для нейронной сети\n",
    "food = np.array(model.wv.get_vector(\"food\"))\n",
    "place = np.array(model.wv.get_vector(\"place\"))\n",
    "food_place = np.multiply(food, place)\n",
    "food_place"
   ]
  },
  {
   "cell_type": "code",
   "execution_count": null,
   "metadata": {},
   "outputs": [],
   "source": [
    "# TODO: \n",
    "# 1. nltk tokenize words\n",
    "# 2. naive document vector для получения вектора сообщения\n",
    "# 3. bayesian inversion yeip - "
   ]
  }
 ],
 "metadata": {
  "kernelspec": {
   "display_name": "Python 3",
   "language": "python",
   "name": "python3"
  },
  "language_info": {
   "codemirror_mode": {
    "name": "ipython",
    "version": 3
   },
   "file_extension": ".py",
   "mimetype": "text/x-python",
   "name": "python",
   "nbconvert_exporter": "python",
   "pygments_lexer": "ipython3",
   "version": "3.6.4"
  }
 },
 "nbformat": 4,
 "nbformat_minor": 2
}
