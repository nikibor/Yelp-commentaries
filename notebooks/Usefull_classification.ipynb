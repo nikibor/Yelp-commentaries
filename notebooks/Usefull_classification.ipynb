{
 "cells": [
  {
   "cell_type": "code",
   "execution_count": 7,
   "metadata": {},
   "outputs": [],
   "source": [
    "import numpy as np\n",
    "import pandas as pd\n",
    "from gensim.models import Word2Vec"
   ]
  },
  {
   "cell_type": "code",
   "execution_count": 2,
   "metadata": {},
   "outputs": [
    {
     "data": {
      "text/html": [
       "<div>\n",
       "<style scoped>\n",
       "    .dataframe tbody tr th:only-of-type {\n",
       "        vertical-align: middle;\n",
       "    }\n",
       "\n",
       "    .dataframe tbody tr th {\n",
       "        vertical-align: top;\n",
       "    }\n",
       "\n",
       "    .dataframe thead th {\n",
       "        text-align: right;\n",
       "    }\n",
       "</style>\n",
       "<table border=\"1\" class=\"dataframe\">\n",
       "  <thead>\n",
       "    <tr style=\"text-align: right;\">\n",
       "      <th></th>\n",
       "      <th>stars</th>\n",
       "      <th>text</th>\n",
       "      <th>useful</th>\n",
       "      <th>funny</th>\n",
       "    </tr>\n",
       "  </thead>\n",
       "  <tbody>\n",
       "    <tr>\n",
       "      <th>0</th>\n",
       "      <td>3</td>\n",
       "      <td>The good: mini doughnuts and americano friendl...</td>\n",
       "      <td>1</td>\n",
       "      <td>0</td>\n",
       "    </tr>\n",
       "    <tr>\n",
       "      <th>1</th>\n",
       "      <td>3</td>\n",
       "      <td>I really like the décor of the place and the w...</td>\n",
       "      <td>0</td>\n",
       "      <td>0</td>\n",
       "    </tr>\n",
       "    <tr>\n",
       "      <th>2</th>\n",
       "      <td>5</td>\n",
       "      <td>Great service, clean and great food, this plac...</td>\n",
       "      <td>1</td>\n",
       "      <td>0</td>\n",
       "    </tr>\n",
       "    <tr>\n",
       "      <th>3</th>\n",
       "      <td>5</td>\n",
       "      <td>This place has never failed on me! \\nLate nigh...</td>\n",
       "      <td>0</td>\n",
       "      <td>0</td>\n",
       "    </tr>\n",
       "    <tr>\n",
       "      <th>4</th>\n",
       "      <td>2</td>\n",
       "      <td>This is a fast food spin off from Paramount Fi...</td>\n",
       "      <td>1</td>\n",
       "      <td>1</td>\n",
       "    </tr>\n",
       "  </tbody>\n",
       "</table>\n",
       "</div>"
      ],
      "text/plain": [
       "   stars                                               text  useful  funny\n",
       "0      3  The good: mini doughnuts and americano friendl...       1      0\n",
       "1      3  I really like the décor of the place and the w...       0      0\n",
       "2      5  Great service, clean and great food, this plac...       1      0\n",
       "3      5  This place has never failed on me! \\nLate nigh...       0      0\n",
       "4      2  This is a fast food spin off from Paramount Fi...       1      1"
      ]
     },
     "execution_count": 2,
     "metadata": {},
     "output_type": "execute_result"
    }
   ],
   "source": [
    "data = pd.read_csv('/home/nikita/PycharmProjects/natural_language/data/test_prepocess.csv')\n",
    "data.head()"
   ]
  },
  {
   "cell_type": "code",
   "execution_count": 4,
   "metadata": {},
   "outputs": [
    {
     "name": "stdout",
     "output_type": "stream",
     "text": [
      "0    The good: mini doughnuts and americano friendl...\n",
      "1    I really like the décor of the place and the w...\n",
      "2    Great service, clean and great food, this plac...\n",
      "3    This place has never failed on me! \\nLate nigh...\n",
      "4    This is a fast food spin off from Paramount Fi...\n",
      "5    Your food is just as scrumptious here as at an...\n",
      "6    It's a good place to go at least once.  It was...\n",
      "7    We like this place a lot. There aren't too man...\n",
      "8    Sweet baby Jesus. All my prayers have been ans...\n",
      "9    Some cute and affordable stuff. They are very ...\n",
      "Name: text, dtype: object\n"
     ]
    }
   ],
   "source": [
    "examples = data.text[0:10]\n",
    "print(examples)"
   ]
  },
  {
   "cell_type": "code",
   "execution_count": 6,
   "metadata": {},
   "outputs": [
    {
     "name": "stdout",
     "output_type": "stream",
     "text": [
      "[['The', 'good:', 'mini', 'doughnuts', 'and', 'americano', 'friendly', 'staff.', 'The', 'asiago', 'cheese', 'bagel', 'was', 'good', 'as', 'well.', 'The', 'bad:', 'burnt', 'oil', 'smell', 'and', 'smoke', 'filled', 'the', 'air', 'from', 'the', 'fryer.', 'The', 'worst', 'cappuccino', 'I', 'have', 'ever', 'had.', 'Not', 'sure', 'if', \"I'll\", 'be', 'back.'], ['I', 'really', 'like', 'the', 'décor', 'of', 'the', 'place', 'and', 'the', 'waitresses', 'and', 'hostesses', 'are', 'cute', 'which', 'does', 'add', 'something', 'to', 'a', 'place', 'but', 'when', 'I', 'go', 'to', 'a', 'place', 'called', 'tacos', 'and', 'beer,', 'I', 'want', 'some', 'good', 'tacos', 'and', 'beer.', 'The', 'tacos', 'were', 'good,', \"don't\", 'get', 'me', 'wrong', 'but', 'all', 'of', 'these', \"people's\", 'reviews', 'saying', 'they', 'are', 'the', 'best', 'in', 'town', 'are', 'kidding', 'themselves.', 'I', 'love', 'the', 'variety', 'and', 'even', 'love', 'that', 'they', 'have', 'so', 'many', 'vegan', 'options', '(even', 'though', 'I', 'am', 'a', 'staunch', 'meat', 'eater).', 'I', 'love', 'the', 'variety', 'of', 'unique', 'appetizers', 'but', 'the', 'flavor', 'seemed', 'to', 'be', 'lacking', 'on', 'everything', 'and', 'I', 'made', 'sure', 'to', 'try', 'a', 'lot.', 'I', 'had', '6', 'different', 'tacos', 'and', '2', 'appetizers', 'and', 'a', 'passion', 'fruit', 'margarita', 'which', 'seemed', 'so', 'fake', 'tasting,', 'way', 'too', 'sugary.', 'I', 'would', 'go', 'back', 'and', 'try', 'this', 'place', 'again', 'but', 'probably', 'not', 'for', 'a', 'bit.', 'I', 'feel', 'like', 'there', 'of', 'plenty', 'of', 'other', 'places', 'that', 'you', 'can', 'have', 'a', 'better', 'taco', 'at', 'in', 'the', 'valley.', 'Maybe', 'the', 'atmosphere', \"won't\", 'be', 'as', 'nice', 'but', 'it', 'will', 'be', 'cheaper', 'and', 'tastier.', 'I', 'was', 'so', 'full', 'though', 'after', 'eating', 'all', 'of', 'that', 'that', 'I', 'unfortunately', 'did', 'not', 'get', 'to', 'try', 'their', 'desserts', 'which', 'I', 'REALLY', 'wanted', 'to', 'try.', 'I', 'guess', 'that', 'gives', 'me', 'an', 'excuse', 'to', 'go', 'back!'], ['Great', 'service,', 'clean', 'and', 'great', 'food,', 'this', 'place', \"doesn't\", 'run', 'shy', 'of', '5', 'stars', 'in', 'any', 'way.'], ['This', 'place', 'has', 'never', 'failed', 'on', 'me!', 'Late', 'night', 'cravings', 'are', 'always', 'satisfy', 'from', 'this', 'place.', 'Cheap', 'and', 'good', 'quality', 'tacos.', 'Open', 'really', 'late!'], ['This', 'is', 'a', 'fast', 'food', 'spin', 'off', 'from', 'Paramount', 'Fine', 'Foods', 'restaurant.', 'The', 'whole', 'concept', 'is', 'a', 'bit', 'confusing,', 'as', 'it', 'is', 'essentially', 'like', 'Subway,', 'but', 'with', 'a', 'Middle', 'Eastern', 'twist,', 'which', 'includes', 'halah', 'meats,', 'sauces(tahini', 'saucce,', 'hummus,', 'zaatar', 'sauce,', 'and', 'fattoush),', 'and', 'baklava.', 'My', 'first', 'visit,', 'I', 'came', 'here', 'craving', 'shawarma.', 'Sadly,', 'they', 'ran', 'out', 'of', 'shawarma', 'meat,', 'pretty', 'disappointing', 'given', 'this', 'is', 'a', 'Middle', 'Eastern', 'joint.', 'Luckily,', 'during', 'my', 'recent', 'visit,', 'they', 'actually', 'had', 'shawarmas.', 'BUT,', 'the', 'meat', 'was', 'cold,', 'and', 'was', 'not', 'sliced', 'on', 'the', 'rotating', 'cone,', 'there', \"wasn't\", 'picked', 'vegetables,', 'or', 'garlic', 'mayo.', 'All', 'the', 'components', 'that', 'make', 'a', 'good', 'shawarma,', 'in', 'my', 'opinion,', 'was', 'missing.', 'Overall', 'verdict:', 'Rather', 'go', 'to', 'Ali', \"Baba's\", 'down', 'the', 'street', 'for', 'some', 'more', 'authentic', 'shawarma.'], ['Your', 'food', 'is', 'just', 'as', 'scrumptious', 'here', 'as', 'at', 'any', 'of', 'your', 'other', 'locations.', 'I', 'get', 'that', \"you're\", 'new', 'and', 'working', 'out', 'a', 'few', 'of', 'the', 'kinks.', 'Let', 'me', 'help', 'you...', 'Dude', 'at', 'the', 'welcome', 'station', 'wrote', 'down', 'my', 'phone', 'number', 'for', 'texting', 'incorrectly', '-', 'twice.', 'So', 'we', 'waited', 'an', 'extra', '15', 'minutes', 'until', 'someone', 'else', 'was', 'smart', 'enough', 'to', 'call', 'out', 'our', 'name.', 'Your', 'servers', 'are', 'quite', 'inattentive.', \"I'd\", 'like', 'my', 'water', 'refreshed,', \"I'd\", 'like', 'my', 'coffee', 'refreshed,', \"I'd\", 'like', 'someone', 'to', 'ask', 'how', \"I'm\", 'doing.', 'Snap', 'it', 'up', 'folks', '-', 'good', 'food', 'calls', 'me', 'back,', 'but', 'inferior', 'service', 'sends', 'me', 'down', 'the', 'street.'], [\"It's\", 'a', 'good', 'place', 'to', 'go', 'at', 'least', 'once.', 'It', 'was', 'a', 'nice', 'experience.', 'I', 'give', 'the', 'atmosphere', '5', 'stars,', 'especially', 'if', \"you're\", 'looking', 'for', 'a', 'quiet,', 'romantic', 'setting.', 'I', 'give', 'the', 'food', '3', 'stars...the', 'food', 'was', 'good,', 'not', 'fabulous,', 'but', 'in', 'my', 'opinion', 'a', 'little', 'overpriced,', 'and', \"that's\", 'why', 'I', 'say', '3', 'stars.', 'We', 'got', 'the', '4', 'course', 'meal', 'and', 'the', 'portions', 'were', 'the', 'perfect', 'size.', 'Not', 'too', 'big,', 'not', 'too', 'small.', 'We', 'left', 'feeling', 'full', 'and', 'taking', 'nothing', 'home,', 'which', 'is', 'exactly', 'how', 'I', 'like', 'it!', \"I'd\", 'give', 'the', 'service', '3', 'stars.', 'The', 'server', 'was', 'polite', 'and', 'professional', 'and', 'offered', 'good', 'suggestions,', 'but', 'service', 'was', 'a', 'bit', 'slow', 'at', 'times.', 'We', 'were', 'there', 'about', '2.5', 'hours', '(just', 'two', 'of', 'us).', 'Perfect', 'if', \"you're\", 'just', 'getting', 'to', 'know', 'someone', 'and', 'have', 'a', 'lot', 'to', 'talk', 'about,', 'but', 'a', 'little', 'too', 'much', 'time', 'for', 'my', 'husband', 'and', 'I,', 'who', 'have', 'been', 'married', 'a', 'while.', 'Our', 'check', 'was', '$100,', 'and', 'that', 'was', 'with', 'no', 'alcoholic', 'beverages.', 'It', 'was', 'a', 'cool', 'thing', 'to', 'do', 'once,', 'but', 'in', 'the', 'future', 'we', 'may', 'end', 'up', 'getting', 'a', 'fondue', 'set', 'and', 'doing', 'this', 'all', 'at', 'home.', ':)'], ['We', 'like', 'this', 'place', 'a', 'lot.', 'There', \"aren't\", 'too', 'many', 'ramen', 'places', 'to', 'chose', 'from', 'in', 'Arizona', 'and', 'although', 'this', 'may', 'not', 'be', 'the', 'most', 'authentic', 'ramen,', \"it's\", 'still', 'very', 'good.', 'The', 'meats', 'are', 'seasoned', 'well', 'and', 'the', 'different', 'soup', 'broths', 'are', 'always', 'very', 'flavorful.'], ['Sweet', 'baby', 'Jesus.', 'All', 'my', 'prayers', 'have', 'been', 'answered.', 'CFA', 'has', 'finally', 'come', 'to', 'Vegas!', 'No', 'more', 'driving', 'to', 'Cali', 'or', 'Utah', 'for', 'my', 'fix.', 'And', 'just', 'when', 'you', 'thought', 'nothing', 'could', 'top', \"that...they're\", 'now', 'open', 'on', 'Sundays.', 'JUST', 'KIDDING!!', 'But', 'we', 'do', 'have', 'another', 'location', 'that', 'recently', 'opened', 'as', 'well', '(located', 'on', 'Stephanie', 'St).', 'Two', 'is', 'always', 'better', 'than', 'one,', 'am', 'I', 'right?', 'First', 'and', 'foremost,', 'the', 'customer', 'service', 'is', 'top', 'notch.', \"You'll\", 'never', 'find', 'better', 'service', 'at', 'a', 'fast', 'food', 'restaurant.', 'The', 'friendliest', 'staff.', 'Courteous,', 'helpful,', 'efficient', 'and', 'not', 'once', 'has', 'my', 'order', 'ever', 'been', 'wrong.', 'Unheard', 'of', 'right?', 'They', 'bring', 'the', 'food', 'to', 'your', 'table', 'and', 'even', 'check', 'to', 'see', 'if', 'you', 'need', 'any', 'sauces,', 'napkins,', 'wet', 'naps,', 'anything', 'to', 'make', 'your', 'experience', 'an', 'enjoyable', 'one.', 'And', 'the', 'food...where', 'do', 'I', 'begin?', 'Spicy', 'Chicken', 'Deluxe', 'has', 'always', 'been', 'my', 'all', 'time', 'favorite.', 'Other', 'top', 'faves:', 'Chicken', 'Salad', 'Sandwich,', 'Grilled', 'Cool', 'Wrap', 'and', 'the', 'Chicken', 'Nuggets', 'or', 'Tenders.', 'Not', 'a', 'huge', 'fan', 'of', 'breakfast', 'here.', 'But', 'no', 'biggie,', 'I', 'can', 'wait', 'for', 'lunch', ':)', 'And', 'be', 'sure', 'to', 'try', 'the', 'sauces.', \"It's\", 'not', 'like', \"McDonald's\", 'where', 'they', 'nickel', 'and', 'dime', 'you', 'for', 'those.', 'You', 'can', 'get', 'as', 'many', 'as', 'you', 'like.', 'If', 'you', \"can't\", 'decide,', 'ask', 'for', 'one', 'of', 'each.', 'They', 'are', 'more', 'than', 'happy', 'to', 'oblige.', 'My', 'personal', 'fave:', 'Sweet', '&', 'Spicy', 'Sriracha,', 'Polynesian,', 'CFA,', 'and', 'Honey', 'Mustard.', 'Thank', 'you', 'Chick-Fil-A', 'for', 'coming', 'to', 'Las', 'Vegas', 'and', 'reminding', 'us', 'to', 'Eat', 'Mor', 'Chikin!!!!!!!!'], ['Some', 'cute', 'and', 'affordable', 'stuff.', 'They', 'are', 'very', 'helpful', 'here.', 'In', 'fact,', 'the', 'staff', 'is', 'almost', 'too', 'helpful.', 'They', 'hover', 'a', 'bit', 'and', 'try', 'to', 'get', 'me', 'to', 'buy', 'some', 'membership', 'discount', 'card.', 'I', 'do', 'not', 'appreciate', 'the', 'high', 'pressure', 'pushing.', 'I', 'just', 'want', 'a', 'new', 'top', 'or', 'a', 'cheap', 'pair', 'of', 'shorts.']]\n"
     ]
    }
   ],
   "source": [
    "sentences = []\n",
    "for sen in examples:\n",
    "    sentences.append(sen.split())\n",
    "print(sentences)"
   ]
  },
  {
   "cell_type": "code",
   "execution_count": 9,
   "metadata": {},
   "outputs": [],
   "source": [
    "model = Word2Vec(sentences=sentences, size=100, window=5, min_count=5, workers=4, sg=0)"
   ]
  },
  {
   "cell_type": "code",
   "execution_count": 20,
   "metadata": {},
   "outputs": [
    {
     "data": {
      "text/plain": [
       "100"
      ]
     },
     "execution_count": 20,
     "metadata": {},
     "output_type": "execute_result"
    }
   ],
   "source": [
    "food = np.array(model.wv.get_vector(\"food\"))\n",
    "x"
   ]
  },
  {
   "cell_type": "code",
   "execution_count": null,
   "metadata": {},
   "outputs": [],
   "source": []
  }
 ],
 "metadata": {
  "kernelspec": {
   "display_name": "Python 3",
   "language": "python",
   "name": "python3"
  },
  "language_info": {
   "codemirror_mode": {
    "name": "ipython",
    "version": 3
   },
   "file_extension": ".py",
   "mimetype": "text/x-python",
   "name": "python",
   "nbconvert_exporter": "python",
   "pygments_lexer": "ipython3",
   "version": "3.6.4"
  }
 },
 "nbformat": 4,
 "nbformat_minor": 2
}
