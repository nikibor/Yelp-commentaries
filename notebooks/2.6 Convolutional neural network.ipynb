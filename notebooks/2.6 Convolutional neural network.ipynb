{
 "cells": [
  {
   "cell_type": "code",
   "execution_count": 1,
   "metadata": {},
   "outputs": [
    {
     "name": "stderr",
     "output_type": "stream",
     "text": [
      "/home/nikita/anaconda3/lib/python3.6/site-packages/sklearn/cross_validation.py:41: DeprecationWarning: This module was deprecated in version 0.18 in favor of the model_selection module into which all the refactored classes and functions are moved. Also note that the interface of the new CV iterators are different from that of this module. This module will be removed in 0.20.\n",
      "  \"This module will be removed in 0.20.\", DeprecationWarning)\n",
      "2018-05-15 23:34:06,153 : INFO : 'pattern' package not found; tag filters are not available for English\n"
     ]
    }
   ],
   "source": [
    "import logging\n",
    "logging.root.handlers = []  # Jupyter messes up logging so needs a reset\n",
    "logging.basicConfig(format='%(asctime)s : %(levelname)s : %(message)s', level=logging.INFO)\n",
    "import pandas as pd\n",
    "import numpy as np\n",
    "from sklearn.cross_validation import train_test_split\n",
    "from sklearn.metrics import accuracy_score, confusion_matrix, explained_variance_score, mean_absolute_error, mean_squared_error, mean_squared_log_error, r2_score\n",
    "from sklearn.preprocessing import MinMaxScaler\n",
    "import matplotlib.pyplot as plt\n",
    "from gensim.models import Word2Vec"
   ]
  },
  {
   "cell_type": "code",
   "execution_count": 2,
   "metadata": {},
   "outputs": [
    {
     "name": "stderr",
     "output_type": "stream",
     "text": [
      "/home/nikita/anaconda3/lib/python3.6/site-packages/h5py/__init__.py:36: FutureWarning: Conversion of the second argument of issubdtype from `float` to `np.floating` is deprecated. In future, it will be treated as `np.float64 == np.dtype(float).type`.\n",
      "  from ._conv import register_converters as _register_converters\n",
      "Using TensorFlow backend.\n"
     ]
    }
   ],
   "source": [
    "import time\n",
    "import keras\n",
    "from keras.models import Sequential\n",
    "from keras.layers import Dense, Input\n",
    "from keras.layers import Dropout, GlobalAveragePooling1D\n",
    "from keras.layers import Flatten, Activation, Concatenate\n",
    "from keras.constraints import maxnorm\n",
    "from keras.optimizers import SGD\n",
    "from keras.layers.convolutional import Conv2D\n",
    "from keras.layers.convolutional import MaxPooling2D\n",
    "from keras.utils import np_utils\n",
    "from sklearn.model_selection import cross_val_score"
   ]
  },
  {
   "cell_type": "code",
   "execution_count": 3,
   "metadata": {},
   "outputs": [
    {
     "data": {
      "text/html": [
       "<div>\n",
       "<style>\n",
       "    .dataframe thead tr:only-child th {\n",
       "        text-align: right;\n",
       "    }\n",
       "\n",
       "    .dataframe thead th {\n",
       "        text-align: left;\n",
       "    }\n",
       "\n",
       "    .dataframe tbody tr th {\n",
       "        vertical-align: top;\n",
       "    }\n",
       "</style>\n",
       "<table border=\"1\" class=\"dataframe\">\n",
       "  <thead>\n",
       "    <tr style=\"text-align: right;\">\n",
       "      <th></th>\n",
       "      <th>stars</th>\n",
       "      <th>text</th>\n",
       "      <th>useful</th>\n",
       "      <th>funny</th>\n",
       "    </tr>\n",
       "  </thead>\n",
       "  <tbody>\n",
       "    <tr>\n",
       "      <th>0</th>\n",
       "      <td>3</td>\n",
       "      <td>The good: mini doughnuts and americano friendl...</td>\n",
       "      <td>1</td>\n",
       "      <td>0</td>\n",
       "    </tr>\n",
       "    <tr>\n",
       "      <th>1</th>\n",
       "      <td>3</td>\n",
       "      <td>I really like the décor of the place and the w...</td>\n",
       "      <td>0</td>\n",
       "      <td>0</td>\n",
       "    </tr>\n",
       "    <tr>\n",
       "      <th>2</th>\n",
       "      <td>5</td>\n",
       "      <td>Great service, clean and great food, this plac...</td>\n",
       "      <td>1</td>\n",
       "      <td>0</td>\n",
       "    </tr>\n",
       "    <tr>\n",
       "      <th>3</th>\n",
       "      <td>5</td>\n",
       "      <td>This place has never failed on me! \\nLate nigh...</td>\n",
       "      <td>0</td>\n",
       "      <td>0</td>\n",
       "    </tr>\n",
       "    <tr>\n",
       "      <th>4</th>\n",
       "      <td>2</td>\n",
       "      <td>This is a fast food spin off from Paramount Fi...</td>\n",
       "      <td>1</td>\n",
       "      <td>1</td>\n",
       "    </tr>\n",
       "  </tbody>\n",
       "</table>\n",
       "</div>"
      ],
      "text/plain": [
       "   stars                                               text  useful  funny\n",
       "0      3  The good: mini doughnuts and americano friendl...       1      0\n",
       "1      3  I really like the décor of the place and the w...       0      0\n",
       "2      5  Great service, clean and great food, this plac...       1      0\n",
       "3      5  This place has never failed on me! \\nLate nigh...       0      0\n",
       "4      2  This is a fast food spin off from Paramount Fi...       1      1"
      ]
     },
     "execution_count": 3,
     "metadata": {},
     "output_type": "execute_result"
    }
   ],
   "source": [
    "data = pd.read_csv('/home/nikita/PycharmProjects/natural_language/data/test_prepocess.csv')\n",
    "data.head()"
   ]
  },
  {
   "cell_type": "code",
   "execution_count": 4,
   "metadata": {},
   "outputs": [],
   "source": [
    "train_data, test_data = train_test_split(data, test_size=0.1, random_state=42)\n",
    "train_batch = train_data[0:100000]\n",
    "test_batch = test_data[0:50000]"
   ]
  },
  {
   "cell_type": "code",
   "execution_count": 5,
   "metadata": {},
   "outputs": [],
   "source": [
    "def build_sentences_vector(sentence):\n",
    "    words = sentence.split()\n",
    "    result = np.zeros(100)\n",
    "    size = 0\n",
    "    for word in words:\n",
    "        if word in embeding_model.wv.vocab:\n",
    "            result+=embeding_model.wv[word]\n",
    "            size+=1\n",
    "    if size == 0:\n",
    "        size = 1\n",
    "    result /= size\n",
    "    return result"
   ]
  },
  {
   "cell_type": "code",
   "execution_count": 6,
   "metadata": {},
   "outputs": [
    {
     "name": "stderr",
     "output_type": "stream",
     "text": [
      "2018-05-15 23:35:06,367 : INFO : loading Word2Vec object from Yelp_embedings\n",
      "2018-05-15 23:35:11,701 : INFO : loading wv recursively from Yelp_embedings.wv.* with mmap=None\n",
      "2018-05-15 23:35:11,702 : INFO : setting ignored attribute vectors_norm to None\n",
      "2018-05-15 23:35:11,703 : INFO : loading vocabulary recursively from Yelp_embedings.vocabulary.* with mmap=None\n",
      "2018-05-15 23:35:11,704 : INFO : loading trainables recursively from Yelp_embedings.trainables.* with mmap=None\n",
      "2018-05-15 23:35:11,705 : INFO : setting ignored attribute cum_table to None\n",
      "2018-05-15 23:35:11,707 : INFO : loaded Yelp_embedings\n"
     ]
    },
    {
     "data": {
      "text/plain": [
       "101865"
      ]
     },
     "execution_count": 6,
     "metadata": {},
     "output_type": "execute_result"
    }
   ],
   "source": [
    "embeding_model = Word2Vec.load('Yelp_embedings')\n",
    "len(embeding_model.wv.vocab)"
   ]
  },
  {
   "cell_type": "code",
   "execution_count": 7,
   "metadata": {},
   "outputs": [
    {
     "name": "stdout",
     "output_type": "stream",
     "text": [
      "CPU times: user 56 s, sys: 170 ms, total: 56.2 s\n",
      "Wall time: 56 s\n"
     ]
    }
   ],
   "source": [
    "%%time\n",
    "train_data_features = []\n",
    "for sentense in train_batch.text:\n",
    "    train_data_features.append(build_sentences_vector(sentense))\n",
    "test_data_transform = []\n",
    "for sentense in test_batch.text:\n",
    "    test_data_transform.append(build_sentences_vector(sentense))"
   ]
  },
  {
   "cell_type": "code",
   "execution_count": 8,
   "metadata": {},
   "outputs": [],
   "source": [
    "train_data_features = pd.DataFrame(train_data_features)\n",
    "test_data_transform = pd.DataFrame(test_data_transform)"
   ]
  },
  {
   "cell_type": "code",
   "execution_count": 9,
   "metadata": {},
   "outputs": [
    {
     "name": "stdout",
     "output_type": "stream",
     "text": [
      "CPU times: user 178 ms, sys: 157 ms, total: 334 ms\n",
      "Wall time: 335 ms\n"
     ]
    }
   ],
   "source": [
    "%%time\n",
    "big_X = train_data_features.append(test_data_transform)\n",
    "scaler = MinMaxScaler()\n",
    "scaler.fit(big_X)\n",
    "train_data_features = scaler.transform(train_data_features)\n",
    "test_data_transform = scaler.transform(test_data_transform)"
   ]
  },
  {
   "cell_type": "code",
   "execution_count": 10,
   "metadata": {},
   "outputs": [
    {
     "name": "stdout",
     "output_type": "stream",
     "text": [
      "(100000, 100) (50000, 100)\n",
      "(100,) (100,)\n"
     ]
    }
   ],
   "source": [
    "print(train_data_features.shape, test_data_transform.shape)\n",
    "print(train_data_features[0].shape, test_data_transform[0].shape)"
   ]
  },
  {
   "cell_type": "code",
   "execution_count": 17,
   "metadata": {},
   "outputs": [],
   "source": [
    "batch_size = 100\n",
    "num_classes = 6\n",
    "epochs = 30\n",
    "# input image dimensions\n",
    "text_x, text_y = 10, 10"
   ]
  },
  {
   "cell_type": "code",
   "execution_count": 12,
   "metadata": {},
   "outputs": [],
   "source": [
    "train_data_features[0].shape\n",
    "x_train = train_data_features.reshape(train_data_features.shape[0], text_x, text_y, 1)\n",
    "y_train = test_data_transform.reshape(test_data_transform.shape[0], text_x, text_y, 1)\n",
    "input_shape = (text_x, text_y, 1)"
   ]
  },
  {
   "cell_type": "code",
   "execution_count": 13,
   "metadata": {},
   "outputs": [
    {
     "data": {
      "text/plain": [
       "(100000, 10, 10, 1)"
      ]
     },
     "execution_count": 13,
     "metadata": {},
     "output_type": "execute_result"
    }
   ],
   "source": [
    "x_train.shape"
   ]
  },
  {
   "cell_type": "code",
   "execution_count": 14,
   "metadata": {},
   "outputs": [
    {
     "name": "stdout",
     "output_type": "stream",
     "text": [
      "_________________________________________________________________\n",
      "Layer (type)                 Output Shape              Param #   \n",
      "=================================================================\n",
      "conv2d_1 (Conv2D)            (None, 10, 10, 64)        128       \n",
      "_________________________________________________________________\n",
      "max_pooling2d_1 (MaxPooling2 (None, 5, 5, 64)          0         \n",
      "_________________________________________________________________\n",
      "conv2d_2 (Conv2D)            (None, 5, 5, 128)         8320      \n",
      "_________________________________________________________________\n",
      "max_pooling2d_2 (MaxPooling2 (None, 2, 2, 128)         0         \n",
      "_________________________________________________________________\n",
      "flatten_1 (Flatten)          (None, 512)               0         \n",
      "_________________________________________________________________\n",
      "dense_1 (Dense)              (None, 256)               131328    \n",
      "_________________________________________________________________\n",
      "dense_2 (Dense)              (None, 6)                 1542      \n",
      "=================================================================\n",
      "Total params: 141,318\n",
      "Trainable params: 141,318\n",
      "Non-trainable params: 0\n",
      "_________________________________________________________________\n",
      "None\n"
     ]
    }
   ],
   "source": [
    "model = Sequential()\n",
    "model.add(Conv2D(64, kernel_size=(1, 1), strides=(1, 1),\n",
    "                 activation='relu',\n",
    "                 input_shape=input_shape))\n",
    "model.add(MaxPooling2D(pool_size=(2, 2), strides=(2, 2)))\n",
    "model.add(Conv2D(128, (1, 1), activation='relu'))\n",
    "model.add(MaxPooling2D(pool_size=(2, 2)))\n",
    "model.add(Flatten())\n",
    "model.add(Dense(256, activation='relu'))\n",
    "model.add(Dense(num_classes, activation='softmax'))\n",
    "\n",
    "model.compile(loss='categorical_crossentropy',\n",
    "              optimizer=keras.optimizers.Adam(),\n",
    "              metrics=['accuracy'])\n",
    "print(model.summary())"
   ]
  },
  {
   "cell_type": "code",
   "execution_count": 15,
   "metadata": {},
   "outputs": [],
   "source": [
    "class AccuracyHistory(keras.callbacks.Callback):\n",
    "    def on_train_begin(self, logs={}):\n",
    "        self.acc = []\n",
    "\n",
    "    def on_epoch_end(self, batch, logs={}):\n",
    "        self.acc.append(logs.get('acc'))\n",
    "history = AccuracyHistory()"
   ]
  },
  {
   "cell_type": "code",
   "execution_count": 16,
   "metadata": {},
   "outputs": [
    {
     "name": "stdout",
     "output_type": "stream",
     "text": [
      "[[0. 1. 0. 0. 0. 0.]\n",
      " [0. 0. 0. 0. 1. 0.]\n",
      " [0. 0. 0. 0. 1. 0.]\n",
      " ...\n",
      " [0. 0. 0. 0. 0. 1.]\n",
      " [0. 0. 0. 0. 1. 0.]\n",
      " [0. 1. 0. 0. 0. 0.]]\n"
     ]
    }
   ],
   "source": [
    "Y = np_utils.to_categorical(train_batch.stars)\n",
    "print(Y)"
   ]
  },
  {
   "cell_type": "code",
   "execution_count": 18,
   "metadata": {},
   "outputs": [
    {
     "name": "stdout",
     "output_type": "stream",
     "text": [
      "Train on 85000 samples, validate on 15000 samples\n",
      "Epoch 1/30\n",
      "85000/85000 [==============================] - 19s 229us/step - loss: 1.4377 - acc: 0.4303 - val_loss: 1.4187 - val_acc: 0.4267\n",
      "Epoch 2/30\n",
      "85000/85000 [==============================] - 17s 200us/step - loss: 1.3498 - acc: 0.4466 - val_loss: 1.3192 - val_acc: 0.4571\n",
      "Epoch 3/30\n",
      "85000/85000 [==============================] - 17s 201us/step - loss: 1.2974 - acc: 0.4663 - val_loss: 1.2448 - val_acc: 0.4941\n",
      "Epoch 4/30\n",
      "85000/85000 [==============================] - 17s 201us/step - loss: 1.2293 - acc: 0.4953 - val_loss: 1.2043 - val_acc: 0.5053\n",
      "Epoch 5/30\n",
      "85000/85000 [==============================] - 17s 198us/step - loss: 1.2038 - acc: 0.5039 - val_loss: 1.1830 - val_acc: 0.5111\n",
      "Epoch 6/30\n",
      "85000/85000 [==============================] - 17s 202us/step - loss: 1.1872 - acc: 0.5113 - val_loss: 1.1779 - val_acc: 0.5123\n",
      "Epoch 7/30\n",
      "85000/85000 [==============================] - 17s 200us/step - loss: 1.1770 - acc: 0.5144 - val_loss: 1.1626 - val_acc: 0.5182\n",
      "Epoch 8/30\n",
      "85000/85000 [==============================] - 17s 203us/step - loss: 1.1677 - acc: 0.5193 - val_loss: 1.1562 - val_acc: 0.5219\n",
      "Epoch 9/30\n",
      "85000/85000 [==============================] - 17s 203us/step - loss: 1.1624 - acc: 0.5207 - val_loss: 1.1535 - val_acc: 0.5197\n",
      "Epoch 10/30\n",
      "85000/85000 [==============================] - 17s 200us/step - loss: 1.1550 - acc: 0.5234 - val_loss: 1.1457 - val_acc: 0.5243\n",
      "Epoch 11/30\n",
      "85000/85000 [==============================] - 17s 201us/step - loss: 1.1497 - acc: 0.5260 - val_loss: 1.1409 - val_acc: 0.5259\n",
      "Epoch 12/30\n",
      "85000/85000 [==============================] - 17s 202us/step - loss: 1.1451 - acc: 0.5274 - val_loss: 1.1428 - val_acc: 0.5267\n",
      "Epoch 13/30\n",
      "85000/85000 [==============================] - 18s 206us/step - loss: 1.1413 - acc: 0.5287 - val_loss: 1.1386 - val_acc: 0.5270\n",
      "Epoch 14/30\n",
      "85000/85000 [==============================] - 18s 207us/step - loss: 1.1386 - acc: 0.5303 - val_loss: 1.1374 - val_acc: 0.5255\n",
      "Epoch 15/30\n",
      "85000/85000 [==============================] - 18s 209us/step - loss: 1.1359 - acc: 0.5303 - val_loss: 1.1333 - val_acc: 0.5299\n",
      "Epoch 16/30\n",
      "85000/85000 [==============================] - 18s 210us/step - loss: 1.1329 - acc: 0.5321 - val_loss: 1.1327 - val_acc: 0.5247\n",
      "Epoch 17/30\n",
      "85000/85000 [==============================] - 18s 210us/step - loss: 1.1300 - acc: 0.5321 - val_loss: 1.1311 - val_acc: 0.5284\n",
      "Epoch 18/30\n",
      "85000/85000 [==============================] - 18s 210us/step - loss: 1.1279 - acc: 0.5345 - val_loss: 1.1306 - val_acc: 0.5330\n",
      "Epoch 19/30\n",
      "85000/85000 [==============================] - 18s 209us/step - loss: 1.1257 - acc: 0.5328 - val_loss: 1.1259 - val_acc: 0.5329\n",
      "Epoch 20/30\n",
      "85000/85000 [==============================] - 18s 210us/step - loss: 1.1231 - acc: 0.5364 - val_loss: 1.1270 - val_acc: 0.5307\n",
      "Epoch 21/30\n",
      "85000/85000 [==============================] - 18s 211us/step - loss: 1.1206 - acc: 0.5370 - val_loss: 1.1254 - val_acc: 0.5363\n",
      "Epoch 22/30\n",
      "85000/85000 [==============================] - 18s 209us/step - loss: 1.1194 - acc: 0.5378 - val_loss: 1.1196 - val_acc: 0.5373\n",
      "Epoch 23/30\n",
      "85000/85000 [==============================] - 18s 208us/step - loss: 1.1168 - acc: 0.5385 - val_loss: 1.1227 - val_acc: 0.5329\n",
      "Epoch 24/30\n",
      "85000/85000 [==============================] - 18s 209us/step - loss: 1.1150 - acc: 0.5390 - val_loss: 1.1222 - val_acc: 0.5307\n",
      "Epoch 25/30\n",
      "85000/85000 [==============================] - 18s 209us/step - loss: 1.1138 - acc: 0.5395 - val_loss: 1.1222 - val_acc: 0.5335\n",
      "Epoch 26/30\n",
      "85000/85000 [==============================] - 18s 210us/step - loss: 1.1122 - acc: 0.5401 - val_loss: 1.1138 - val_acc: 0.5341\n",
      "Epoch 27/30\n",
      "85000/85000 [==============================] - 18s 209us/step - loss: 1.1106 - acc: 0.5418 - val_loss: 1.1172 - val_acc: 0.5353\n",
      "Epoch 28/30\n",
      "85000/85000 [==============================] - 18s 208us/step - loss: 1.1079 - acc: 0.5424 - val_loss: 1.1155 - val_acc: 0.5372\n",
      "Epoch 29/30\n",
      "85000/85000 [==============================] - 18s 211us/step - loss: 1.1076 - acc: 0.5400 - val_loss: 1.1142 - val_acc: 0.5365\n",
      "Epoch 30/30\n",
      "85000/85000 [==============================] - 18s 216us/step - loss: 1.1056 - acc: 0.5430 - val_loss: 1.1182 - val_acc: 0.5377\n"
     ]
    },
    {
     "data": {
      "text/plain": [
       "<keras.callbacks.History at 0x7f45cb099898>"
      ]
     },
     "execution_count": 18,
     "metadata": {},
     "output_type": "execute_result"
    }
   ],
   "source": [
    "%%time\n",
    "model.fit(x_train, np.array(Y),\n",
    "          batch_size=batch_size,\n",
    "          epochs=epochs,\n",
    "          verbose=1,\n",
    "          validation_split=0.15,\n",
    "          callbacks=[history])"
   ]
  },
  {
   "cell_type": "code",
   "execution_count": 19,
   "metadata": {},
   "outputs": [
    {
     "data": {
      "image/png": "[encoded data removed]",
      "text/plain": [
       "<matplotlib.figure.Figure at 0x7f45cb0997f0>"
      ]
     },
     "metadata": {},
     "output_type": "display_data"
    }
   ],
   "source": [
    "plt.plot(range(epochs), history.acc)\n",
    "plt.xlabel('Epochs')\n",
    "plt.ylabel('Accuracy')\n",
    "plt.show()"
   ]
  },
  {
   "cell_type": "code",
   "execution_count": null,
   "metadata": {},
   "outputs": [],
   "source": []
  }
 ],
 "metadata": {
  "kernelspec": {
   "display_name": "Python 3",
   "language": "python",
   "name": "python3"
  },
  "language_info": {
   "codemirror_mode": {
    "name": "ipython",
    "version": 3
   },
   "file_extension": ".py",
   "mimetype": "text/x-python",
   "name": "python",
   "nbconvert_exporter": "python",
   "pygments_lexer": "ipython3",
   "version": "3.6.4"
  }
 },
 "nbformat": 4,
 "nbformat_minor": 2
}
