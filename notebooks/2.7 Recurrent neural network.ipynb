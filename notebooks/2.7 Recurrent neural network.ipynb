{
 "cells": [
  {
   "cell_type": "code",
   "execution_count": 1,
   "metadata": {},
   "outputs": [
    {
     "name": "stderr",
     "output_type": "stream",
     "text": [
      "/home/nikita/anaconda3/lib/python3.6/site-packages/sklearn/cross_validation.py:41: DeprecationWarning: This module was deprecated in version 0.18 in favor of the model_selection module into which all the refactored classes and functions are moved. Also note that the interface of the new CV iterators are different from that of this module. This module will be removed in 0.20.\n",
      "  \"This module will be removed in 0.20.\", DeprecationWarning)\n",
      "2018-05-20 15:49:48,454 : INFO : 'pattern' package not found; tag filters are not available for English\n"
     ]
    }
   ],
   "source": [
    "import logging\n",
    "logging.root.handlers = []  # Jupyter messes up logging so needs a reset\n",
    "logging.basicConfig(format='%(asctime)s : %(levelname)s : %(message)s', level=logging.INFO)\n",
    "import pandas as pd\n",
    "import numpy as np\n",
    "from sklearn.cross_validation import train_test_split\n",
    "from sklearn.metrics import accuracy_score, confusion_matrix, explained_variance_score, mean_absolute_error, mean_squared_error, mean_squared_log_error, r2_score\n",
    "from sklearn.preprocessing import MinMaxScaler\n",
    "import matplotlib.pyplot as plt\n",
    "from gensim.models import Word2Vec"
   ]
  },
  {
   "cell_type": "code",
   "execution_count": 2,
   "metadata": {},
   "outputs": [],
   "source": [
    "import time\n",
    "import keras\n",
    "from keras.models import Sequential\n",
    "from keras.layers import Dense, Input, LSTM\n",
    "from keras.layers import Dropout, GlobalAveragePooling1D\n",
    "from keras.layers import Flatten, Activation, Concatenate\n",
    "from keras.constraints import maxnorm\n",
    "from keras.optimizers import SGD\n",
    "from keras.utils import np_utils\n",
    "from sklearn.model_selection import cross_val_score"
   ]
  },
  {
   "cell_type": "code",
   "execution_count": 3,
   "metadata": {},
   "outputs": [
    {
     "data": {
      "text/html": [
       "<div>\n",
       "<style>\n",
       "    .dataframe thead tr:only-child th {\n",
       "        text-align: right;\n",
       "    }\n",
       "\n",
       "    .dataframe thead th {\n",
       "        text-align: left;\n",
       "    }\n",
       "\n",
       "    .dataframe tbody tr th {\n",
       "        vertical-align: top;\n",
       "    }\n",
       "</style>\n",
       "<table border=\"1\" class=\"dataframe\">\n",
       "  <thead>\n",
       "    <tr style=\"text-align: right;\">\n",
       "      <th></th>\n",
       "      <th>stars</th>\n",
       "      <th>text</th>\n",
       "      <th>useful</th>\n",
       "      <th>funny</th>\n",
       "    </tr>\n",
       "  </thead>\n",
       "  <tbody>\n",
       "    <tr>\n",
       "      <th>0</th>\n",
       "      <td>3</td>\n",
       "      <td>The good: mini doughnuts and americano friendl...</td>\n",
       "      <td>1</td>\n",
       "      <td>0</td>\n",
       "    </tr>\n",
       "    <tr>\n",
       "      <th>1</th>\n",
       "      <td>3</td>\n",
       "      <td>I really like the décor of the place and the w...</td>\n",
       "      <td>0</td>\n",
       "      <td>0</td>\n",
       "    </tr>\n",
       "    <tr>\n",
       "      <th>2</th>\n",
       "      <td>5</td>\n",
       "      <td>Great service, clean and great food, this plac...</td>\n",
       "      <td>1</td>\n",
       "      <td>0</td>\n",
       "    </tr>\n",
       "    <tr>\n",
       "      <th>3</th>\n",
       "      <td>5</td>\n",
       "      <td>This place has never failed on me! \\nLate nigh...</td>\n",
       "      <td>0</td>\n",
       "      <td>0</td>\n",
       "    </tr>\n",
       "    <tr>\n",
       "      <th>4</th>\n",
       "      <td>2</td>\n",
       "      <td>This is a fast food spin off from Paramount Fi...</td>\n",
       "      <td>1</td>\n",
       "      <td>1</td>\n",
       "    </tr>\n",
       "  </tbody>\n",
       "</table>\n",
       "</div>"
      ],
      "text/plain": [
       "   stars                                               text  useful  funny\n",
       "0      3  The good: mini doughnuts and americano friendl...       1      0\n",
       "1      3  I really like the décor of the place and the w...       0      0\n",
       "2      5  Great service, clean and great food, this plac...       1      0\n",
       "3      5  This place has never failed on me! \\nLate nigh...       0      0\n",
       "4      2  This is a fast food spin off from Paramount Fi...       1      1"
      ]
     },
     "execution_count": 3,
     "metadata": {},
     "output_type": "execute_result"
    }
   ],
   "source": [
    "data = pd.read_csv('/home/nikita/PycharmProjects/natural_language/data/test_prepocess.csv')\n",
    "data.head()"
   ]
  },
  {
   "cell_type": "code",
   "execution_count": 4,
   "metadata": {},
   "outputs": [],
   "source": [
    "train_data, test_data = train_test_split(data, test_size=0.1, random_state=42)\n",
    "train_batch = train_data[0:100000]\n",
    "test_batch = test_data[0:50000]"
   ]
  },
  {
   "cell_type": "code",
   "execution_count": 5,
   "metadata": {},
   "outputs": [],
   "source": [
    "def build_sentences_vector(sentence):\n",
    "    words = sentence.split()\n",
    "    result = np.zeros(100)\n",
    "    size = 0\n",
    "    for word in words:\n",
    "        if word in embeding_model.wv.vocab:\n",
    "            result+=embeding_model.wv[word]\n",
    "            size+=1\n",
    "    if size == 0:\n",
    "        size = 1\n",
    "    result /= size\n",
    "    return result"
   ]
  },
  {
   "cell_type": "code",
   "execution_count": 6,
   "metadata": {},
   "outputs": [
    {
     "name": "stderr",
     "output_type": "stream",
     "text": [
      "2018-05-20 15:52:10,373 : INFO : loading Word2Vec object from Yelp_embedings\n",
      "2018-05-20 15:52:13,984 : INFO : loading wv recursively from Yelp_embedings.wv.* with mmap=None\n",
      "2018-05-20 15:52:13,984 : INFO : setting ignored attribute vectors_norm to None\n",
      "2018-05-20 15:52:13,986 : INFO : loading vocabulary recursively from Yelp_embedings.vocabulary.* with mmap=None\n",
      "2018-05-20 15:52:13,987 : INFO : loading trainables recursively from Yelp_embedings.trainables.* with mmap=None\n",
      "2018-05-20 15:52:13,988 : INFO : setting ignored attribute cum_table to None\n",
      "2018-05-20 15:52:13,989 : INFO : loaded Yelp_embedings\n"
     ]
    },
    {
     "data": {
      "text/plain": [
       "101865"
      ]
     },
     "execution_count": 6,
     "metadata": {},
     "output_type": "execute_result"
    }
   ],
   "source": [
    "embeding_model = Word2Vec.load('Yelp_embedings')\n",
    "len(embeding_model.wv.vocab)"
   ]
  },
  {
   "cell_type": "code",
   "execution_count": 7,
   "metadata": {},
   "outputs": [
    {
     "name": "stdout",
     "output_type": "stream",
     "text": [
      "CPU times: user 1min 26s, sys: 231 ms, total: 1min 26s\n",
      "Wall time: 1min 26s\n"
     ]
    }
   ],
   "source": [
    "%%time\n",
    "train_data_features = []\n",
    "for sentense in train_batch.text:\n",
    "    train_data_features.append(build_sentences_vector(sentense))\n",
    "test_data_transform = []\n",
    "for sentense in test_batch.text:\n",
    "    test_data_transform.append(build_sentences_vector(sentense))"
   ]
  },
  {
   "cell_type": "code",
   "execution_count": 8,
   "metadata": {},
   "outputs": [],
   "source": [
    "train_data_features = pd.DataFrame(train_data_features)\n",
    "test_data_transform = pd.DataFrame(test_data_transform)"
   ]
  },
  {
   "cell_type": "code",
   "execution_count": 9,
   "metadata": {},
   "outputs": [
    {
     "name": "stdout",
     "output_type": "stream",
     "text": [
      "CPU times: user 222 ms, sys: 208 ms, total: 431 ms\n",
      "Wall time: 430 ms\n"
     ]
    }
   ],
   "source": [
    "%%time\n",
    "big_X = train_data_features.append(test_data_transform)\n",
    "scaler = MinMaxScaler()\n",
    "scaler.fit(big_X)\n",
    "train_data_features = scaler.transform(train_data_features)\n",
    "test_data_transform = scaler.transform(test_data_transform)"
   ]
  },
  {
   "cell_type": "code",
   "execution_count": 10,
   "metadata": {},
   "outputs": [
    {
     "name": "stdout",
     "output_type": "stream",
     "text": [
      "(100000, 100) (50000, 100)\n",
      "(100,) (100,)\n"
     ]
    }
   ],
   "source": [
    "print(train_data_features.shape, test_data_transform.shape)\n",
    "print(train_data_features[0].shape, test_data_transform[0].shape)"
   ]
  },
  {
   "cell_type": "code",
   "execution_count": 11,
   "metadata": {},
   "outputs": [
    {
     "data": {
      "text/plain": [
       "array([0.47768725, 0.50261539, 0.7106637 , 0.60011637, 0.30857185,\n",
       "       0.46072202, 0.58532382, 0.35489181, 0.56592655, 0.52509615,\n",
       "       0.34207966, 0.46469938, 0.28336177, 0.48729129, 0.56763504,\n",
       "       0.48545882, 0.3633329 , 0.50221415, 0.4790287 , 0.44466971,\n",
       "       0.60395302, 0.21026502, 0.71012634, 0.61785903, 0.32811395,\n",
       "       0.40180564, 0.42955268, 0.52559043, 0.41086256, 0.41418741,\n",
       "       0.7674902 , 0.54301586, 0.61783318, 0.58074126, 0.55888046,\n",
       "       0.54453445, 0.36168717, 0.54021471, 0.45886499, 0.64497301,\n",
       "       0.68964035, 0.66150094, 0.42380001, 0.29542307, 0.2645298 ,\n",
       "       0.64970587, 0.59399217, 0.70192113, 0.67110966, 0.66881021,\n",
       "       0.52171434, 0.47996132, 0.52243193, 0.59537827, 0.46571829,\n",
       "       0.55339619, 0.73363276, 0.42394804, 0.23819312, 0.43204729,\n",
       "       0.68764806, 0.66526823, 0.39650339, 0.48692192, 0.21172303,\n",
       "       0.69001408, 0.35145527, 0.39906459, 0.34272367, 0.48391983,\n",
       "       0.44863189, 0.6544023 , 0.37294765, 0.48754314, 0.75848183,\n",
       "       0.49511291, 0.5709513 , 0.5161289 , 0.75845332, 0.39976307,\n",
       "       0.49585772, 0.5884334 , 0.4852264 , 0.49504398, 0.32936473,\n",
       "       0.46630647, 0.48406719, 0.66319702, 0.62884117, 0.29202446,\n",
       "       0.6356838 , 0.60575013, 0.64485996, 0.40819167, 0.50405794,\n",
       "       0.52419061, 0.69306765, 0.64954838, 0.29577478, 0.49781375])"
      ]
     },
     "execution_count": 11,
     "metadata": {},
     "output_type": "execute_result"
    }
   ],
   "source": [
    "train_data_features[0]"
   ]
  },
  {
   "cell_type": "code",
   "execution_count": 36,
   "metadata": {},
   "outputs": [],
   "source": [
    "batch_size = 100\n",
    "num_classes = 6\n",
    "epochs = 5\n",
    "text_x, text_y = 10, 10\n",
    "train_data_features[0].shape\n",
    "x_train = train_data_features.reshape(train_data_features.shape[0], text_x, text_y)\n",
    "y_train = test_data_transform.reshape(test_data_transform.shape[0], text_x, text_y)\n",
    "input_shape = (text_x, text_y)"
   ]
  },
  {
   "cell_type": "code",
   "execution_count": 26,
   "metadata": {},
   "outputs": [
    {
     "data": {
      "text/plain": [
       "(100000, 10, 10)"
      ]
     },
     "execution_count": 26,
     "metadata": {},
     "output_type": "execute_result"
    }
   ],
   "source": [
    "x_train.shape"
   ]
  },
  {
   "cell_type": "code",
   "execution_count": 27,
   "metadata": {},
   "outputs": [
    {
     "data": {
      "text/plain": [
       "(10, 10)"
      ]
     },
     "execution_count": 27,
     "metadata": {},
     "output_type": "execute_result"
    }
   ],
   "source": [
    "input_shape"
   ]
  },
  {
   "cell_type": "code",
   "execution_count": 44,
   "metadata": {},
   "outputs": [
    {
     "name": "stdout",
     "output_type": "stream",
     "text": [
      "_________________________________________________________________\n",
      "Layer (type)                 Output Shape              Param #   \n",
      "=================================================================\n",
      "lstm_34 (LSTM)               (100, 10, 16)             1728      \n",
      "_________________________________________________________________\n",
      "lstm_35 (LSTM)               (100, 10, 16)             2112      \n",
      "_________________________________________________________________\n",
      "lstm_36 (LSTM)               (100, 10, 32)             6272      \n",
      "_________________________________________________________________\n",
      "lstm_37 (LSTM)               (100, 10, 32)             8320      \n",
      "_________________________________________________________________\n",
      "lstm_38 (LSTM)               (100, 10, 64)             24832     \n",
      "_________________________________________________________________\n",
      "lstm_39 (LSTM)               (100, 10, 64)             33024     \n",
      "_________________________________________________________________\n",
      "lstm_40 (LSTM)               (100, 10, 128)            98816     \n",
      "_________________________________________________________________\n",
      "lstm_41 (LSTM)               (100, 10, 128)            131584    \n",
      "_________________________________________________________________\n",
      "lstm_42 (LSTM)               (100, 10, 128)            131584    \n",
      "_________________________________________________________________\n",
      "lstm_43 (LSTM)               (100, 10, 128)            131584    \n",
      "_________________________________________________________________\n",
      "lstm_44 (LSTM)               (100, 10, 256)            394240    \n",
      "_________________________________________________________________\n",
      "lstm_45 (LSTM)               (100, 10, 256)            525312    \n",
      "_________________________________________________________________\n",
      "lstm_46 (LSTM)               (100, 10, 256)            525312    \n",
      "_________________________________________________________________\n",
      "lstm_47 (LSTM)               (100, 256)                525312    \n",
      "_________________________________________________________________\n",
      "dense_9 (Dense)              (100, 256)                65792     \n",
      "_________________________________________________________________\n",
      "dense_10 (Dense)             (100, 6)                  1542      \n",
      "=================================================================\n",
      "Total params: 2,607,366\n",
      "Trainable params: 2,607,366\n",
      "Non-trainable params: 0\n",
      "_________________________________________________________________\n",
      "None\n"
     ]
    }
   ],
   "source": [
    "data_dim = 10\n",
    "timesteps = 10\n",
    "\n",
    "model = Sequential()\n",
    "model.add(LSTM(16, return_sequences=True, stateful=True, batch_input_shape=(batch_size, timesteps, data_dim)))\n",
    "model.add(LSTM(16, return_sequences=True, stateful=True))\n",
    "model.add(LSTM(32, return_sequences=True, stateful=True))\n",
    "model.add(LSTM(32, return_sequences=True, stateful=True))\n",
    "model.add(LSTM(64, return_sequences=True, stateful=True))\n",
    "model.add(LSTM(64, return_sequences=True, stateful=True))\n",
    "model.add(LSTM(128, return_sequences=True, stateful=True))\n",
    "model.add(LSTM(128, return_sequences=True, stateful=True))\n",
    "model.add(LSTM(128, return_sequences=True, stateful=True))\n",
    "model.add(LSTM(128, return_sequences=True, stateful=True))\n",
    "model.add(LSTM(256, return_sequences=True, stateful=True))\n",
    "model.add(LSTM(256, return_sequences=True, stateful=True))\n",
    "model.add(LSTM(256, return_sequences=True, stateful=True))\n",
    "model.add(LSTM(256, stateful=True))\n",
    "model.add(Dense(256, activation='relu'))\n",
    "model.add(Dense(num_classes, activation='softmax'))\n",
    "\n",
    "model.compile(loss='categorical_crossentropy',\n",
    "              optimizer='rmsprop',\n",
    "              metrics=['accuracy'])\n",
    "print(model.summary())"
   ]
  },
  {
   "cell_type": "code",
   "execution_count": 29,
   "metadata": {},
   "outputs": [],
   "source": [
    "class AccuracyHistory(keras.callbacks.Callback):\n",
    "    def on_train_begin(self, logs={}):\n",
    "        self.acc = []\n",
    "\n",
    "    def on_epoch_end(self, batch, logs={}):\n",
    "        self.acc.append(logs.get('acc'))\n",
    "history = AccuracyHistory()"
   ]
  },
  {
   "cell_type": "code",
   "execution_count": 30,
   "metadata": {},
   "outputs": [],
   "source": [
    "Y = np_utils.to_categorical(train_batch.stars)"
   ]
  },
  {
   "cell_type": "code",
   "execution_count": 45,
   "metadata": {},
   "outputs": [
    {
     "name": "stdout",
     "output_type": "stream",
     "text": [
      "Train on 85000 samples, validate on 15000 samples\n",
      "Epoch 1/5\n",
      "85000/85000 [==============================] - 858s 10ms/step - loss: 1.4482 - acc: 0.4298 - val_loss: 1.4378 - val_acc: 0.4267\n",
      "Epoch 2/5\n",
      "85000/85000 [==============================] - 857s 10ms/step - loss: 1.4362 - acc: 0.4310 - val_loss: 1.4480 - val_acc: 0.4267\n",
      "Epoch 3/5\n",
      "85000/85000 [==============================] - 815s 10ms/step - loss: 1.4376 - acc: 0.4310 - val_loss: 1.4362 - val_acc: 0.4267\n",
      "Epoch 4/5\n",
      "85000/85000 [==============================] - 830s 10ms/step - loss: 1.4530 - acc: 0.4232 - val_loss: 1.4623 - val_acc: 0.4267\n",
      "Epoch 5/5\n",
      "85000/85000 [==============================] - 807s 9ms/step - loss: 1.4747 - acc: 0.4080 - val_loss: 1.4772 - val_acc: 0.2320\n",
      "CPU times: user 2h 52min 57s, sys: 12min 43s, total: 3h 5min 40s\n",
      "Wall time: 1h 9min 34s\n"
     ]
    },
    {
     "data": {
      "text/plain": [
       "<keras.callbacks.History at 0x7fe126de8780>"
      ]
     },
     "execution_count": 45,
     "metadata": {},
     "output_type": "execute_result"
    }
   ],
   "source": [
    "%%time\n",
    "model.fit(x_train, np.array(Y),\n",
    "          batch_size=batch_size,\n",
    "          epochs=epochs,\n",
    "          verbose=1,\n",
    "          validation_split=0.15,\n",
    "          callbacks=[history])"
   ]
  },
  {
   "cell_type": "code",
   "execution_count": 46,
   "metadata": {},
   "outputs": [
    {
     "data": {
      "image/png": "[encoded data removed]",
      "text/plain": [
       "<matplotlib.figure.Figure at 0x7fe12c4cdf98>"
      ]
     },
     "metadata": {},
     "output_type": "display_data"
    }
   ],
   "source": [
    "plt.plot(range(epochs), history.acc)\n",
    "plt.xlabel('Эпоха')\n",
    "plt.ylabel('Точность модели')\n",
    "plt.show()"
   ]
  },
  {
   "cell_type": "code",
   "execution_count": null,
   "metadata": {},
   "outputs": [],
   "source": []
  }
 ],
 "metadata": {
  "kernelspec": {
   "display_name": "Python 3",
   "language": "python",
   "name": "python3"
  },
  "language_info": {
   "codemirror_mode": {
    "name": "ipython",
    "version": 3
   },
   "file_extension": ".py",
   "mimetype": "text/x-python",
   "name": "python",
   "nbconvert_exporter": "python",
   "pygments_lexer": "ipython3",
   "version": "3.6.4"
  }
 },
 "nbformat": 4,
 "nbformat_minor": 2
}
