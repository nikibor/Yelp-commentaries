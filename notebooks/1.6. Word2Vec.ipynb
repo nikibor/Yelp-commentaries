{
 "cells": [
  {
   "cell_type": "code",
   "execution_count": 1,
   "metadata": {},
   "outputs": [
    {
     "name": "stderr",
     "output_type": "stream",
     "text": [
      "2018-05-08 22:03:58,954 : INFO : 'pattern' package not found; tag filters are not available for English\n",
      "/home/nikita/anaconda3/lib/python3.6/site-packages/sklearn/cross_validation.py:41: DeprecationWarning: This module was deprecated in version 0.18 in favor of the model_selection module into which all the refactored classes and functions are moved. Also note that the interface of the new CV iterators are different from that of this module. This module will be removed in 0.20.\n",
      "  \"This module will be removed in 0.20.\", DeprecationWarning)\n"
     ]
    }
   ],
   "source": [
    "import logging\n",
    "logging.root.handlers = []  # Jupyter messes up logging so needs a reset\n",
    "logging.basicConfig(format='%(asctime)s : %(levelname)s : %(message)s', level=logging.INFO)\n",
    "import pandas as pd\n",
    "import numpy as np\n",
    "from numpy import random\n",
    "import gensim\n",
    "import nltk\n",
    "from sklearn.cross_validation import train_test_split\n",
    "from sklearn import linear_model\n",
    "from sklearn.metrics import accuracy_score, confusion_matrix, explained_variance_score, mean_absolute_error, mean_squared_error, mean_squared_log_error, r2_score\n",
    "import matplotlib.pyplot as plt\n",
    "from gensim.models import Word2Vec\n",
    "from nltk.corpus import stopwords\n",
    "from sklearn.neighbors import KNeighborsClassifier"
   ]
  },
  {
   "cell_type": "code",
   "execution_count": 2,
   "metadata": {},
   "outputs": [
    {
     "data": {
      "text/html": [
       "<div>\n",
       "<style scoped>\n",
       "    .dataframe tbody tr th:only-of-type {\n",
       "        vertical-align: middle;\n",
       "    }\n",
       "\n",
       "    .dataframe tbody tr th {\n",
       "        vertical-align: top;\n",
       "    }\n",
       "\n",
       "    .dataframe thead th {\n",
       "        text-align: right;\n",
       "    }\n",
       "</style>\n",
       "<table border=\"1\" class=\"dataframe\">\n",
       "  <thead>\n",
       "    <tr style=\"text-align: right;\">\n",
       "      <th></th>\n",
       "      <th>stars</th>\n",
       "      <th>text</th>\n",
       "      <th>useful</th>\n",
       "      <th>funny</th>\n",
       "    </tr>\n",
       "  </thead>\n",
       "  <tbody>\n",
       "    <tr>\n",
       "      <th>0</th>\n",
       "      <td>3</td>\n",
       "      <td>The good: mini doughnuts and americano friendl...</td>\n",
       "      <td>1</td>\n",
       "      <td>0</td>\n",
       "    </tr>\n",
       "    <tr>\n",
       "      <th>1</th>\n",
       "      <td>3</td>\n",
       "      <td>I really like the décor of the place and the w...</td>\n",
       "      <td>0</td>\n",
       "      <td>0</td>\n",
       "    </tr>\n",
       "    <tr>\n",
       "      <th>2</th>\n",
       "      <td>5</td>\n",
       "      <td>Great service, clean and great food, this plac...</td>\n",
       "      <td>1</td>\n",
       "      <td>0</td>\n",
       "    </tr>\n",
       "    <tr>\n",
       "      <th>3</th>\n",
       "      <td>5</td>\n",
       "      <td>This place has never failed on me! \\nLate nigh...</td>\n",
       "      <td>0</td>\n",
       "      <td>0</td>\n",
       "    </tr>\n",
       "    <tr>\n",
       "      <th>4</th>\n",
       "      <td>2</td>\n",
       "      <td>This is a fast food spin off from Paramount Fi...</td>\n",
       "      <td>1</td>\n",
       "      <td>1</td>\n",
       "    </tr>\n",
       "  </tbody>\n",
       "</table>\n",
       "</div>"
      ],
      "text/plain": [
       "   stars                                               text  useful  funny\n",
       "0      3  The good: mini doughnuts and americano friendl...       1      0\n",
       "1      3  I really like the décor of the place and the w...       0      0\n",
       "2      5  Great service, clean and great food, this plac...       1      0\n",
       "3      5  This place has never failed on me! \\nLate nigh...       0      0\n",
       "4      2  This is a fast food spin off from Paramount Fi...       1      1"
      ]
     },
     "execution_count": 2,
     "metadata": {},
     "output_type": "execute_result"
    }
   ],
   "source": [
    "data = pd.read_csv('/home/nikita/PycharmProjects/natural_language/data/test_prepocess.csv')\n",
    "data.head()"
   ]
  },
  {
   "cell_type": "code",
   "execution_count": 3,
   "metadata": {},
   "outputs": [],
   "source": [
    "train_data, test_data = train_test_split(data, test_size=0.1, random_state=42)\n",
    "train_batch = train_data[0:100000]\n",
    "test_batch = test_data[0:50000]"
   ]
  },
  {
   "cell_type": "code",
   "execution_count": 4,
   "metadata": {},
   "outputs": [],
   "source": [
    "sentences = []\n",
    "for review in train_batch.text:\n",
    "    sentences.append(review.split())"
   ]
  },
  {
   "cell_type": "code",
   "execution_count": 5,
   "metadata": {},
   "outputs": [
    {
     "name": "stderr",
     "output_type": "stream",
     "text": [
      "2018-05-08 22:06:24,700 : INFO : collecting all words and their counts\n",
      "2018-05-08 22:06:24,705 : INFO : PROGRESS: at sentence #0, processed 0 words, keeping 0 word types\n",
      "2018-05-08 22:06:24,937 : INFO : PROGRESS: at sentence #10000, processed 1149263 words, keeping 73895 word types\n",
      "2018-05-08 22:06:25,169 : INFO : PROGRESS: at sentence #20000, processed 2280853 words, keeping 113523 word types\n",
      "2018-05-08 22:06:25,386 : INFO : PROGRESS: at sentence #30000, processed 3412546 words, keeping 145823 word types\n",
      "2018-05-08 22:06:25,615 : INFO : PROGRESS: at sentence #40000, processed 4558235 words, keeping 175563 word types\n",
      "2018-05-08 22:06:25,883 : INFO : PROGRESS: at sentence #50000, processed 5696037 words, keeping 202365 word types\n",
      "2018-05-08 22:06:26,124 : INFO : PROGRESS: at sentence #60000, processed 6810830 words, keeping 226463 word types\n",
      "2018-05-08 22:06:26,363 : INFO : PROGRESS: at sentence #70000, processed 7944539 words, keeping 249569 word types\n",
      "2018-05-08 22:06:26,601 : INFO : PROGRESS: at sentence #80000, processed 9081837 words, keeping 271423 word types\n",
      "2018-05-08 22:06:26,836 : INFO : PROGRESS: at sentence #90000, processed 10218340 words, keeping 291973 word types\n",
      "2018-05-08 22:06:27,060 : INFO : collected 312612 word types from a corpus of 11344089 raw words and 100000 sentences\n",
      "2018-05-08 22:06:27,060 : INFO : Loading a fresh vocabulary\n",
      "2018-05-08 22:06:27,487 : INFO : min_count=5 retains 55236 unique words (17% of original 312612, drops 257376)\n",
      "2018-05-08 22:06:27,488 : INFO : min_count=5 leaves 10985813 word corpus (96% of original 11344089, drops 358276)\n",
      "2018-05-08 22:06:27,648 : INFO : deleting the raw counts dictionary of 312612 items\n",
      "2018-05-08 22:06:27,655 : INFO : sample=0.001 downsamples 44 most-common words\n",
      "2018-05-08 22:06:27,656 : INFO : downsampling leaves estimated 8558950 word corpus (77.9% of prior 10985813)\n",
      "2018-05-08 22:06:27,844 : INFO : estimated required memory for 55236 words and 100 dimensions: 71806800 bytes\n",
      "2018-05-08 22:06:27,845 : INFO : resetting layer weights\n",
      "2018-05-08 22:06:28,454 : INFO : training model with 4 workers on 55236 vocabulary and 100 features, using sg=0 hs=0 sample=0.001 negative=5 window=5\n",
      "2018-05-08 22:06:29,463 : INFO : EPOCH 1 - PROGRESS: at 11.80% examples, 1016665 words/s, in_qsize 7, out_qsize 0\n",
      "2018-05-08 22:06:30,464 : INFO : EPOCH 1 - PROGRESS: at 23.59% examples, 1011376 words/s, in_qsize 6, out_qsize 1\n",
      "2018-05-08 22:06:31,466 : INFO : EPOCH 1 - PROGRESS: at 35.42% examples, 1009307 words/s, in_qsize 7, out_qsize 0\n",
      "2018-05-08 22:06:32,469 : INFO : EPOCH 1 - PROGRESS: at 46.88% examples, 1004450 words/s, in_qsize 7, out_qsize 0\n",
      "2018-05-08 22:06:33,471 : INFO : EPOCH 1 - PROGRESS: at 58.81% examples, 1004693 words/s, in_qsize 6, out_qsize 1\n",
      "2018-05-08 22:06:34,480 : INFO : EPOCH 1 - PROGRESS: at 70.32% examples, 1000211 words/s, in_qsize 7, out_qsize 0\n",
      "2018-05-08 22:06:35,491 : INFO : EPOCH 1 - PROGRESS: at 82.03% examples, 999636 words/s, in_qsize 7, out_qsize 0\n",
      "2018-05-08 22:06:36,505 : INFO : EPOCH 1 - PROGRESS: at 94.16% examples, 1001699 words/s, in_qsize 7, out_qsize 0\n",
      "2018-05-08 22:06:36,984 : INFO : worker thread finished; awaiting finish of 3 more threads\n",
      "2018-05-08 22:06:36,988 : INFO : worker thread finished; awaiting finish of 2 more threads\n",
      "2018-05-08 22:06:36,996 : INFO : worker thread finished; awaiting finish of 1 more threads\n",
      "2018-05-08 22:06:36,998 : INFO : worker thread finished; awaiting finish of 0 more threads\n",
      "2018-05-08 22:06:36,999 : INFO : EPOCH - 1 : training on 11344089 raw words (8558065 effective words) took 8.5s, 1002212 effective words/s\n",
      "2018-05-08 22:06:38,012 : INFO : EPOCH 2 - PROGRESS: at 11.27% examples, 968988 words/s, in_qsize 7, out_qsize 0\n",
      "2018-05-08 22:06:39,020 : INFO : EPOCH 2 - PROGRESS: at 23.14% examples, 987744 words/s, in_qsize 6, out_qsize 1\n",
      "2018-05-08 22:06:40,024 : INFO : EPOCH 2 - PROGRESS: at 35.23% examples, 1000228 words/s, in_qsize 7, out_qsize 0\n",
      "2018-05-08 22:06:41,024 : INFO : EPOCH 2 - PROGRESS: at 46.71% examples, 998455 words/s, in_qsize 7, out_qsize 0\n",
      "2018-05-08 22:06:42,035 : INFO : EPOCH 2 - PROGRESS: at 58.81% examples, 1001005 words/s, in_qsize 7, out_qsize 0\n",
      "2018-05-08 22:06:43,039 : INFO : EPOCH 2 - PROGRESS: at 70.48% examples, 1000416 words/s, in_qsize 7, out_qsize 0\n",
      "2018-05-08 22:06:44,042 : INFO : EPOCH 2 - PROGRESS: at 82.37% examples, 1003214 words/s, in_qsize 7, out_qsize 0\n",
      "2018-05-08 22:06:45,048 : INFO : EPOCH 2 - PROGRESS: at 94.16% examples, 1002203 words/s, in_qsize 7, out_qsize 0\n",
      "2018-05-08 22:06:45,525 : INFO : worker thread finished; awaiting finish of 3 more threads\n",
      "2018-05-08 22:06:45,526 : INFO : worker thread finished; awaiting finish of 2 more threads\n",
      "2018-05-08 22:06:45,534 : INFO : worker thread finished; awaiting finish of 1 more threads\n",
      "2018-05-08 22:06:45,542 : INFO : worker thread finished; awaiting finish of 0 more threads\n",
      "2018-05-08 22:06:45,542 : INFO : EPOCH - 2 : training on 11344089 raw words (8559392 effective words) took 8.5s, 1002609 effective words/s\n",
      "2018-05-08 22:06:46,562 : INFO : EPOCH 3 - PROGRESS: at 11.71% examples, 1003694 words/s, in_qsize 6, out_qsize 1\n",
      "2018-05-08 22:06:47,567 : INFO : EPOCH 3 - PROGRESS: at 23.14% examples, 987977 words/s, in_qsize 6, out_qsize 1\n",
      "2018-05-08 22:06:48,572 : INFO : EPOCH 3 - PROGRESS: at 35.13% examples, 997552 words/s, in_qsize 7, out_qsize 0\n",
      "2018-05-08 22:06:49,583 : INFO : EPOCH 3 - PROGRESS: at 47.05% examples, 1003005 words/s, in_qsize 7, out_qsize 0\n",
      "2018-05-08 22:06:50,587 : INFO : EPOCH 3 - PROGRESS: at 58.08% examples, 988147 words/s, in_qsize 7, out_qsize 0\n",
      "2018-05-08 22:06:51,594 : INFO : EPOCH 3 - PROGRESS: at 69.00% examples, 978109 words/s, in_qsize 6, out_qsize 1\n",
      "2018-05-08 22:06:52,601 : INFO : EPOCH 3 - PROGRESS: at 80.94% examples, 983401 words/s, in_qsize 7, out_qsize 0\n",
      "2018-05-08 22:06:53,609 : INFO : EPOCH 3 - PROGRESS: at 92.45% examples, 982775 words/s, in_qsize 6, out_qsize 1\n",
      "2018-05-08 22:06:54,214 : INFO : worker thread finished; awaiting finish of 3 more threads\n",
      "2018-05-08 22:06:54,219 : INFO : worker thread finished; awaiting finish of 2 more threads\n",
      "2018-05-08 22:06:54,228 : INFO : worker thread finished; awaiting finish of 1 more threads\n",
      "2018-05-08 22:06:54,230 : INFO : worker thread finished; awaiting finish of 0 more threads\n",
      "2018-05-08 22:06:54,231 : INFO : EPOCH - 3 : training on 11344089 raw words (8558870 effective words) took 8.7s, 986253 effective words/s\n",
      "2018-05-08 22:06:55,238 : INFO : EPOCH 4 - PROGRESS: at 11.17% examples, 966146 words/s, in_qsize 7, out_qsize 0\n",
      "2018-05-08 22:06:56,239 : INFO : EPOCH 4 - PROGRESS: at 22.80% examples, 978267 words/s, in_qsize 7, out_qsize 0\n",
      "2018-05-08 22:06:57,241 : INFO : EPOCH 4 - PROGRESS: at 34.62% examples, 987331 words/s, in_qsize 7, out_qsize 0\n",
      "2018-05-08 22:06:58,249 : INFO : EPOCH 4 - PROGRESS: at 45.48% examples, 973486 words/s, in_qsize 7, out_qsize 0\n",
      "2018-05-08 22:06:59,253 : INFO : EPOCH 4 - PROGRESS: at 57.55% examples, 982403 words/s, in_qsize 7, out_qsize 0\n",
      "2018-05-08 22:07:00,256 : INFO : EPOCH 4 - PROGRESS: at 68.93% examples, 980208 words/s, in_qsize 7, out_qsize 0\n",
      "2018-05-08 22:07:01,269 : INFO : EPOCH 4 - PROGRESS: at 80.94% examples, 985614 words/s, in_qsize 7, out_qsize 0\n",
      "2018-05-08 22:07:02,275 : INFO : EPOCH 4 - PROGRESS: at 92.89% examples, 989458 words/s, in_qsize 7, out_qsize 0\n",
      "2018-05-08 22:07:02,868 : INFO : worker thread finished; awaiting finish of 3 more threads\n",
      "2018-05-08 22:07:02,875 : INFO : worker thread finished; awaiting finish of 2 more threads\n",
      "2018-05-08 22:07:02,880 : INFO : worker thread finished; awaiting finish of 1 more threads\n",
      "2018-05-08 22:07:02,897 : INFO : worker thread finished; awaiting finish of 0 more threads\n",
      "2018-05-08 22:07:02,898 : INFO : EPOCH - 4 : training on 11344089 raw words (8558385 effective words) took 8.7s, 988038 effective words/s\n",
      "2018-05-08 22:07:03,910 : INFO : EPOCH 5 - PROGRESS: at 11.52% examples, 996325 words/s, in_qsize 7, out_qsize 0\n",
      "2018-05-08 22:07:04,917 : INFO : EPOCH 5 - PROGRESS: at 23.62% examples, 1008917 words/s, in_qsize 7, out_qsize 0\n",
      "2018-05-08 22:07:05,926 : INFO : EPOCH 5 - PROGRESS: at 35.52% examples, 1007903 words/s, in_qsize 8, out_qsize 1\n",
      "2018-05-08 22:07:06,934 : INFO : EPOCH 5 - PROGRESS: at 46.88% examples, 1000286 words/s, in_qsize 7, out_qsize 0\n"
     ]
    },
    {
     "name": "stderr",
     "output_type": "stream",
     "text": [
      "2018-05-08 22:07:07,940 : INFO : EPOCH 5 - PROGRESS: at 57.73% examples, 982757 words/s, in_qsize 7, out_qsize 0\n",
      "2018-05-08 22:07:08,945 : INFO : EPOCH 5 - PROGRESS: at 69.35% examples, 983678 words/s, in_qsize 7, out_qsize 0\n",
      "2018-05-08 22:07:09,951 : INFO : EPOCH 5 - PROGRESS: at 81.36% examples, 989484 words/s, in_qsize 7, out_qsize 0\n",
      "2018-05-08 22:07:10,951 : INFO : EPOCH 5 - PROGRESS: at 92.80% examples, 987978 words/s, in_qsize 7, out_qsize 0\n",
      "2018-05-08 22:07:11,535 : INFO : worker thread finished; awaiting finish of 3 more threads\n",
      "2018-05-08 22:07:11,542 : INFO : worker thread finished; awaiting finish of 2 more threads\n",
      "2018-05-08 22:07:11,551 : INFO : worker thread finished; awaiting finish of 1 more threads\n",
      "2018-05-08 22:07:11,552 : INFO : worker thread finished; awaiting finish of 0 more threads\n",
      "2018-05-08 22:07:11,553 : INFO : EPOCH - 5 : training on 11344089 raw words (8558416 effective words) took 8.6s, 990017 effective words/s\n",
      "2018-05-08 22:07:11,553 : INFO : training on a 56720445 raw words (42793128 effective words) took 43.1s, 992903 effective words/s\n"
     ]
    },
    {
     "name": "stdout",
     "output_type": "stream",
     "text": [
      "CPU times: user 2min 39s, sys: 638 ms, total: 2min 40s\n",
      "Wall time: 46.9 s\n"
     ]
    }
   ],
   "source": [
    "%%time\n",
    "wv_model = Word2Vec(sentences, workers = 4)"
   ]
  },
  {
   "cell_type": "code",
   "execution_count": 6,
   "metadata": {},
   "outputs": [
    {
     "data": {
      "text/plain": [
       "55236"
      ]
     },
     "execution_count": 6,
     "metadata": {},
     "output_type": "execute_result"
    }
   ],
   "source": [
    "len(wv_model.wv.vocab)"
   ]
  },
  {
   "cell_type": "code",
   "execution_count": 11,
   "metadata": {},
   "outputs": [
    {
     "data": {
      "text/plain": [
       "array([ 1.6760770e+00,  1.0607835e+00,  2.9874304e-01, -4.6076241e+00,\n",
       "        1.8369666e-01,  9.5607209e-01,  1.6746558e+00, -1.6334783e+00,\n",
       "       -3.7492785e+00, -1.5843943e-01, -3.8089252e-01,  1.2508904e+00,\n",
       "       -3.0607586e+00,  2.4589068e-01, -1.7681792e+00,  1.8877894e+00,\n",
       "        8.3141714e-01,  2.1892564e+00,  1.8509336e+00, -9.8419398e-01,\n",
       "       -2.8930659e+00, -1.9479727e+00,  6.7294669e-01,  3.1233156e+00,\n",
       "       -1.3798598e+00, -1.8254275e+00, -1.7428943e+00,  2.2089169e+00,\n",
       "        1.5835268e+00,  1.8263876e+00,  5.2711182e+00, -1.5371783e+00,\n",
       "       -2.5235059e+00, -2.2317121e+00,  1.6947410e+00, -1.1412269e+00,\n",
       "       -6.4739597e-01, -9.4944382e-01, -8.3285660e-01, -2.4834766e+00,\n",
       "        2.0850956e+00, -1.0657881e+00, -2.7876773e+00,  3.2640779e+00,\n",
       "       -3.3065960e-01, -2.0518794e+00, -1.9303493e+00,  5.1924521e-01,\n",
       "       -2.7129269e+00, -8.5118663e-01, -1.4147160e+00, -1.2977853e+00,\n",
       "        5.7376337e-01, -1.5103277e+00,  2.3871324e+00, -2.9553978e+00,\n",
       "       -3.4435863e+00,  2.8691628e+00,  4.3963146e+00, -7.8730077e-01,\n",
       "        2.6405973e+00, -2.3923125e+00, -5.1907247e-01,  2.0239575e+00,\n",
       "        1.9307476e+00,  2.2115321e+00, -1.4944710e+00,  3.5688663e+00,\n",
       "       -2.0890632e+00, -9.1176069e-01, -1.6542453e-01,  1.0178093e+00,\n",
       "        1.3623430e-01,  5.9269929e-01,  1.8673472e+00, -7.3150914e-06,\n",
       "        1.2917652e+00, -2.7715373e-03,  2.2938449e+00,  1.1519399e+00,\n",
       "       -1.4277254e+00, -2.7352233e+00,  5.5496424e-01, -2.4534965e+00,\n",
       "       -9.9957532e-01, -4.5418396e+00, -4.0560756e+00, -1.2603960e+00,\n",
       "        2.6119790e+00, -2.1338255e+00,  2.7194557e+00,  2.7210820e+00,\n",
       "        1.4819586e+00,  8.7425846e-01, -4.2468876e-01,  2.6888251e+00,\n",
       "        1.7807349e+00,  8.8903689e-01,  1.6238533e+00, -2.6486247e+00],\n",
       "      dtype=float32)"
      ]
     },
     "execution_count": 11,
     "metadata": {},
     "output_type": "execute_result"
    }
   ],
   "source": [
    "wv_model.wv['food']"
   ]
  },
  {
   "cell_type": "code",
   "execution_count": 12,
   "metadata": {},
   "outputs": [],
   "source": [
    "def build_sentences_vector(sentence):\n",
    "    words = sentence.split()\n",
    "    result = np.zeros(100)\n",
    "    size = 0\n",
    "    for word in words:\n",
    "        if word in wv_model.wv.vocab:\n",
    "            result+=wv_model.wv[word]\n",
    "            size+=1\n",
    "    if size == 0:\n",
    "        size = 1\n",
    "    result /= size\n",
    "    return result"
   ]
  },
  {
   "cell_type": "code",
   "execution_count": 13,
   "metadata": {},
   "outputs": [],
   "source": [
    "train_data_features = []\n",
    "for sentense in train_batch.text:    \n",
    "    train_data_features.append(build_sentences_vector(sentense))"
   ]
  },
  {
   "cell_type": "code",
   "execution_count": 14,
   "metadata": {},
   "outputs": [
    {
     "name": "stderr",
     "output_type": "stream",
     "text": [
      "/home/nikita/anaconda3/lib/python3.6/site-packages/sklearn/linear_model/logistic.py:1228: UserWarning: 'n_jobs' > 1 does not have any effect when 'solver' is set to 'liblinear'. Got 'n_jobs' = 3.\n",
      "  \" = {}.\".format(self.n_jobs))\n"
     ]
    },
    {
     "name": "stdout",
     "output_type": "stream",
     "text": [
      "CPU times: user 19.2 s, sys: 59.7 ms, total: 19.2 s\n",
      "Wall time: 19.2 s\n"
     ]
    }
   ],
   "source": [
    "%%time\n",
    "logreg = linear_model.LogisticRegression(n_jobs=3, C=1e5)\n",
    "logreg = logreg.fit(train_data_features, train_batch.stars)"
   ]
  },
  {
   "cell_type": "code",
   "execution_count": 15,
   "metadata": {},
   "outputs": [],
   "source": [
    "def evaluate_prediction(predictions, target, title=\"Confusion matrix\"):\n",
    "    print('accuracy                     %s' % accuracy_score(target, predictions))\n",
    "    print('explained_variance_score     %s' % explained_variance_score(target, predictions))\n",
    "    print('mean_absolute_error          %s' % mean_absolute_error(target, predictions))\n",
    "    print('mean_squared_error           %s' % mean_squared_error(target, predictions))\n",
    "    print('mean_squared_log_error       %s' % mean_squared_log_error(target, predictions))\n",
    "    print('r2_score                     %s' % r2_score(target, predictions))\n",
    "    print()\n",
    "    cm = confusion_matrix(target, predictions)\n",
    "    print('confusion matrix\\n %s' % cm)\n",
    "    print('(row=expected, col=predicted)')\n",
    "    \n",
    "    cm_normalized = cm.astype('float') / cm.sum(axis=1)[:, np.newaxis]\n",
    "    plot_confusion_matrix(cm_normalized, title + ' Normalized')\n",
    "    \n",
    "def plot_confusion_matrix(cm, title='Матрица ошибок', cmap=plt.cm.Blues):\n",
    "    plt.imshow(cm, interpolation='nearest', cmap=cmap)\n",
    "    plt.title(title)\n",
    "    plt.colorbar()\n",
    "    my_tags = pd.unique(train_batch.stars)\n",
    "    tick_marks = np.arange(len(my_tags))\n",
    "    target_names = my_tags\n",
    "    plt.xticks(tick_marks, target_names, rotation=45)\n",
    "    plt.yticks(tick_marks, target_names)\n",
    "    plt.tight_layout()\n",
    "    plt.ylabel('Исходные метки')\n",
    "    plt.xlabel('Полученные метки')\n",
    "    \n",
    "def predict(vectorizer, classifier, data):\n",
    "    data_features = vectorizer.transform(data.text)\n",
    "    predictions = classifier.predict(data_features)\n",
    "    target = data.stars\n",
    "    evaluate_prediction(predictions, target)"
   ]
  },
  {
   "cell_type": "code",
   "execution_count": 16,
   "metadata": {},
   "outputs": [
    {
     "name": "stdout",
     "output_type": "stream",
     "text": [
      "CPU times: user 24.1 s, sys: 128 ms, total: 24.2 s\n",
      "Wall time: 24.4 s\n"
     ]
    }
   ],
   "source": [
    "%%time\n",
    "test_batch_transform = []\n",
    "for sentense in test_batch.text:    \n",
    "    test_batch_transform.append(build_sentences_vector(sentense))\n",
    "predicted = logreg.predict(test_batch_transform)"
   ]
  },
  {
   "cell_type": "code",
   "execution_count": 17,
   "metadata": {},
   "outputs": [
    {
     "name": "stdout",
     "output_type": "stream",
     "text": [
      "accuracy                     0.60162\n",
      "explained_variance_score     0.4344865482913238\n",
      "mean_absolute_error          0.5952\n",
      "mean_squared_error           1.19884\n",
      "mean_squared_log_error       0.08385478973972361\n",
      "r2_score                     0.41209555987826596\n",
      "\n",
      "confusion matrix\n",
      " [[ 5337   150   242   331   814]\n",
      " [ 1570   229   709   908   640]\n",
      " [  720   162  1144  2757  1139]\n",
      " [  391    51   493  4914  5859]\n",
      " [  475    21   148  2339 18457]]\n",
      "(row=expected, col=predicted)\n"
     ]
    },
    {
     "data": {
      "image/png": "[encoded data removed]",
      "text/plain": [
       "<matplotlib.figure.Figure at 0x7fe172e84f28>"
      ]
     },
     "metadata": {},
     "output_type": "display_data"
    }
   ],
   "source": [
    "evaluate_prediction(predicted, test_batch.stars)"
   ]
  },
  {
   "cell_type": "code",
   "execution_count": null,
   "metadata": {},
   "outputs": [],
   "source": [
    "wv"
   ]
  }
 ],
 "metadata": {
  "kernelspec": {
   "display_name": "Python 3",
   "language": "python",
   "name": "python3"
  },
  "language_info": {
   "codemirror_mode": {
    "name": "ipython",
    "version": 3
   },
   "file_extension": ".py",
   "mimetype": "text/x-python",
   "name": "python",
   "nbconvert_exporter": "python",
   "pygments_lexer": "ipython3",
   "version": "3.6.4"
  }
 },
 "nbformat": 4,
 "nbformat_minor": 2
}
